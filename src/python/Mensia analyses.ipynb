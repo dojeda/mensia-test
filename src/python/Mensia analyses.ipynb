{
 "metadata": {
  "name": "",
  "signature": "sha256:33283ba569ef9244f0d31cd25f4b10eb232eeccdf1fd56dce437c8933216aad6"
 },
 "nbformat": 3,
 "nbformat_minor": 0,
 "worksheets": [
  {
   "cells": [
    {
     "cell_type": "heading",
     "level": 1,
     "metadata": {
      "slideshow": {
       "slide_type": "-"
      }
     },
     "source": [
      "Preliminaries"
     ]
    },
    {
     "cell_type": "markdown",
     "metadata": {},
     "source": [
      "Let's start by configuring this workspace and loading our data"
     ]
    },
    {
     "cell_type": "code",
     "collapsed": false,
     "input": [
      "# Python packages and tools\n",
      "import pandas as pd\n",
      "import numpy as np\n",
      "import scipy.stats as sps\n",
      "import rpy2.robjects as robj\n",
      "import rpy2.robjects.pandas2ri\n",
      "from rpy2.robjects.packages import importr\n",
      "import matplotlib.pyplot as plt\n",
      "\n",
      "# Matplotlib configuration\n",
      "pylab.rcParams['figure.figsize'] = (10.0, 8.0)\n",
      "\n",
      "# Functions written specifically for this notebook\n",
      "from ptest import permutation_test\n",
      "\n",
      "# Load data\n",
      "datafile = '../../data/full_data.csv'\n",
      "\n",
      "data = pd.read_csv(datafile)\n",
      "\n",
      "features = data.feature.unique()\n",
      "groups   = data.group.unique()\n",
      "electrodes = 'O1 O2 Oz Cz C3 C4 Fz F8 F7 Fpz'.split()\n",
      "\n",
      "data.describe()"
     ],
     "language": "python",
     "metadata": {},
     "outputs": [
      {
       "html": [
        "<div style=\"max-width:1500px;overflow:auto;\">\n",
        "<table border=\"1\" class=\"dataframe\">\n",
        "  <thead>\n",
        "    <tr style=\"text-align: right;\">\n",
        "      <th></th>\n",
        "      <th>O1</th>\n",
        "      <th>O2</th>\n",
        "      <th>Oz</th>\n",
        "      <th>Cz</th>\n",
        "      <th>C3</th>\n",
        "      <th>C4</th>\n",
        "      <th>Fz</th>\n",
        "      <th>F8</th>\n",
        "      <th>F7</th>\n",
        "      <th>Fpz</th>\n",
        "    </tr>\n",
        "  </thead>\n",
        "  <tbody>\n",
        "    <tr>\n",
        "      <th>count</th>\n",
        "      <td>220.000000</td>\n",
        "      <td>220.000000</td>\n",
        "      <td>220.000000</td>\n",
        "      <td>220.000000</td>\n",
        "      <td>220.000000</td>\n",
        "      <td>220.000000</td>\n",
        "      <td>220.000000</td>\n",
        "      <td>220.000000</td>\n",
        "      <td>220.000000</td>\n",
        "      <td>220.000000</td>\n",
        "    </tr>\n",
        "    <tr>\n",
        "      <th>mean</th>\n",
        "      <td>0.010412</td>\n",
        "      <td>-0.007640</td>\n",
        "      <td>-0.013381</td>\n",
        "      <td>0.007200</td>\n",
        "      <td>0.003226</td>\n",
        "      <td>0.077505</td>\n",
        "      <td>-0.009577</td>\n",
        "      <td>0.009317</td>\n",
        "      <td>0.003806</td>\n",
        "      <td>0.006738</td>\n",
        "    </tr>\n",
        "    <tr>\n",
        "      <th>std</th>\n",
        "      <td>0.100521</td>\n",
        "      <td>0.105792</td>\n",
        "      <td>0.090973</td>\n",
        "      <td>0.113143</td>\n",
        "      <td>0.093362</td>\n",
        "      <td>0.448852</td>\n",
        "      <td>0.095648</td>\n",
        "      <td>0.096236</td>\n",
        "      <td>0.102174</td>\n",
        "      <td>0.099644</td>\n",
        "    </tr>\n",
        "    <tr>\n",
        "      <th>min</th>\n",
        "      <td>-0.304851</td>\n",
        "      <td>-0.287153</td>\n",
        "      <td>-0.294207</td>\n",
        "      <td>-0.270539</td>\n",
        "      <td>-0.244345</td>\n",
        "      <td>-1.016847</td>\n",
        "      <td>-0.291376</td>\n",
        "      <td>-0.239759</td>\n",
        "      <td>-0.286069</td>\n",
        "      <td>-0.294242</td>\n",
        "    </tr>\n",
        "    <tr>\n",
        "      <th>25%</th>\n",
        "      <td>-0.057961</td>\n",
        "      <td>-0.072891</td>\n",
        "      <td>-0.069117</td>\n",
        "      <td>-0.065565</td>\n",
        "      <td>-0.062218</td>\n",
        "      <td>-0.105515</td>\n",
        "      <td>-0.067576</td>\n",
        "      <td>-0.049643</td>\n",
        "      <td>-0.063197</td>\n",
        "      <td>-0.056031</td>\n",
        "    </tr>\n",
        "    <tr>\n",
        "      <th>50%</th>\n",
        "      <td>0.007203</td>\n",
        "      <td>-0.001747</td>\n",
        "      <td>-0.012236</td>\n",
        "      <td>0.008510</td>\n",
        "      <td>0.008410</td>\n",
        "      <td>0.022341</td>\n",
        "      <td>-0.011613</td>\n",
        "      <td>0.016279</td>\n",
        "      <td>0.005089</td>\n",
        "      <td>-0.005542</td>\n",
        "    </tr>\n",
        "    <tr>\n",
        "      <th>75%</th>\n",
        "      <td>0.075523</td>\n",
        "      <td>0.059479</td>\n",
        "      <td>0.047167</td>\n",
        "      <td>0.069565</td>\n",
        "      <td>0.065628</td>\n",
        "      <td>0.266962</td>\n",
        "      <td>0.041424</td>\n",
        "      <td>0.070519</td>\n",
        "      <td>0.063252</td>\n",
        "      <td>0.085695</td>\n",
        "    </tr>\n",
        "    <tr>\n",
        "      <th>max</th>\n",
        "      <td>0.275423</td>\n",
        "      <td>0.257177</td>\n",
        "      <td>0.243959</td>\n",
        "      <td>0.364713</td>\n",
        "      <td>0.215263</td>\n",
        "      <td>1.678375</td>\n",
        "      <td>0.300843</td>\n",
        "      <td>0.275997</td>\n",
        "      <td>0.276610</td>\n",
        "      <td>0.290539</td>\n",
        "    </tr>\n",
        "  </tbody>\n",
        "</table>\n",
        "</div>"
       ],
       "metadata": {},
       "output_type": "pyout",
       "prompt_number": 1,
       "text": [
        "               O1          O2          Oz          Cz          C3          C4  \\\n",
        "count  220.000000  220.000000  220.000000  220.000000  220.000000  220.000000   \n",
        "mean     0.010412   -0.007640   -0.013381    0.007200    0.003226    0.077505   \n",
        "std      0.100521    0.105792    0.090973    0.113143    0.093362    0.448852   \n",
        "min     -0.304851   -0.287153   -0.294207   -0.270539   -0.244345   -1.016847   \n",
        "25%     -0.057961   -0.072891   -0.069117   -0.065565   -0.062218   -0.105515   \n",
        "50%      0.007203   -0.001747   -0.012236    0.008510    0.008410    0.022341   \n",
        "75%      0.075523    0.059479    0.047167    0.069565    0.065628    0.266962   \n",
        "max      0.275423    0.257177    0.243959    0.364713    0.215263    1.678375   \n",
        "\n",
        "               Fz          F8          F7         Fpz  \n",
        "count  220.000000  220.000000  220.000000  220.000000  \n",
        "mean    -0.009577    0.009317    0.003806    0.006738  \n",
        "std      0.095648    0.096236    0.102174    0.099644  \n",
        "min     -0.291376   -0.239759   -0.286069   -0.294242  \n",
        "25%     -0.067576   -0.049643   -0.063197   -0.056031  \n",
        "50%     -0.011613    0.016279    0.005089   -0.005542  \n",
        "75%      0.041424    0.070519    0.063252    0.085695  \n",
        "max      0.300843    0.275997    0.276610    0.290539  "
       ]
      }
     ],
     "prompt_number": 1
    },
    {
     "cell_type": "code",
     "collapsed": false,
     "input": [
      "data.describe(include=['O'])"
     ],
     "language": "python",
     "metadata": {},
     "outputs": [
      {
       "html": [
        "<div style=\"max-width:1500px;overflow:auto;\">\n",
        "<table border=\"1\" class=\"dataframe\">\n",
        "  <thead>\n",
        "    <tr style=\"text-align: right;\">\n",
        "      <th></th>\n",
        "      <th>feature</th>\n",
        "      <th>subject</th>\n",
        "      <th>time</th>\n",
        "      <th>group</th>\n",
        "    </tr>\n",
        "  </thead>\n",
        "  <tbody>\n",
        "    <tr>\n",
        "      <th>count</th>\n",
        "      <td>220</td>\n",
        "      <td>220</td>\n",
        "      <td>220</td>\n",
        "      <td>220</td>\n",
        "    </tr>\n",
        "    <tr>\n",
        "      <th>unique</th>\n",
        "      <td>5</td>\n",
        "      <td>12</td>\n",
        "      <td>2</td>\n",
        "      <td>2</td>\n",
        "    </tr>\n",
        "    <tr>\n",
        "      <th>top</th>\n",
        "      <td>Y1</td>\n",
        "      <td>subject-02</td>\n",
        "      <td>T1</td>\n",
        "      <td>group-2</td>\n",
        "    </tr>\n",
        "    <tr>\n",
        "      <th>freq</th>\n",
        "      <td>44</td>\n",
        "      <td>20</td>\n",
        "      <td>110</td>\n",
        "      <td>120</td>\n",
        "    </tr>\n",
        "  </tbody>\n",
        "</table>\n",
        "</div>"
       ],
       "metadata": {},
       "output_type": "pyout",
       "prompt_number": 2,
       "text": [
        "       feature     subject time    group\n",
        "count      220         220  220      220\n",
        "unique       5          12    2        2\n",
        "top         Y1  subject-02   T1  group-2\n",
        "freq        44          20  110      120"
       ]
      }
     ],
     "prompt_number": 2
    },
    {
     "cell_type": "code",
     "collapsed": false,
     "input": [
      "data.groupby(['group','time','subject']).count()"
     ],
     "language": "python",
     "metadata": {},
     "outputs": [
      {
       "html": [
        "<div style=\"max-width:1500px;overflow:auto;\">\n",
        "<table border=\"1\" class=\"dataframe\">\n",
        "  <thead>\n",
        "    <tr style=\"text-align: right;\">\n",
        "      <th></th>\n",
        "      <th></th>\n",
        "      <th></th>\n",
        "      <th>O1</th>\n",
        "      <th>O2</th>\n",
        "      <th>Oz</th>\n",
        "      <th>Cz</th>\n",
        "      <th>C3</th>\n",
        "      <th>C4</th>\n",
        "      <th>Fz</th>\n",
        "      <th>F8</th>\n",
        "      <th>F7</th>\n",
        "      <th>Fpz</th>\n",
        "      <th>feature</th>\n",
        "    </tr>\n",
        "    <tr>\n",
        "      <th>group</th>\n",
        "      <th>time</th>\n",
        "      <th>subject</th>\n",
        "      <th></th>\n",
        "      <th></th>\n",
        "      <th></th>\n",
        "      <th></th>\n",
        "      <th></th>\n",
        "      <th></th>\n",
        "      <th></th>\n",
        "      <th></th>\n",
        "      <th></th>\n",
        "      <th></th>\n",
        "      <th></th>\n",
        "    </tr>\n",
        "  </thead>\n",
        "  <tbody>\n",
        "    <tr>\n",
        "      <th rowspan=\"20\" valign=\"top\">group-1</th>\n",
        "      <th rowspan=\"10\" valign=\"top\">T1</th>\n",
        "      <th>subject-00</th>\n",
        "      <td>5</td>\n",
        "      <td>5</td>\n",
        "      <td>5</td>\n",
        "      <td>5</td>\n",
        "      <td>5</td>\n",
        "      <td>5</td>\n",
        "      <td>5</td>\n",
        "      <td>5</td>\n",
        "      <td>5</td>\n",
        "      <td>5</td>\n",
        "      <td>5</td>\n",
        "    </tr>\n",
        "    <tr>\n",
        "      <th>subject-01</th>\n",
        "      <td>5</td>\n",
        "      <td>5</td>\n",
        "      <td>5</td>\n",
        "      <td>5</td>\n",
        "      <td>5</td>\n",
        "      <td>5</td>\n",
        "      <td>5</td>\n",
        "      <td>5</td>\n",
        "      <td>5</td>\n",
        "      <td>5</td>\n",
        "      <td>5</td>\n",
        "    </tr>\n",
        "    <tr>\n",
        "      <th>subject-02</th>\n",
        "      <td>5</td>\n",
        "      <td>5</td>\n",
        "      <td>5</td>\n",
        "      <td>5</td>\n",
        "      <td>5</td>\n",
        "      <td>5</td>\n",
        "      <td>5</td>\n",
        "      <td>5</td>\n",
        "      <td>5</td>\n",
        "      <td>5</td>\n",
        "      <td>5</td>\n",
        "    </tr>\n",
        "    <tr>\n",
        "      <th>subject-03</th>\n",
        "      <td>5</td>\n",
        "      <td>5</td>\n",
        "      <td>5</td>\n",
        "      <td>5</td>\n",
        "      <td>5</td>\n",
        "      <td>5</td>\n",
        "      <td>5</td>\n",
        "      <td>5</td>\n",
        "      <td>5</td>\n",
        "      <td>5</td>\n",
        "      <td>5</td>\n",
        "    </tr>\n",
        "    <tr>\n",
        "      <th>subject-04</th>\n",
        "      <td>5</td>\n",
        "      <td>5</td>\n",
        "      <td>5</td>\n",
        "      <td>5</td>\n",
        "      <td>5</td>\n",
        "      <td>5</td>\n",
        "      <td>5</td>\n",
        "      <td>5</td>\n",
        "      <td>5</td>\n",
        "      <td>5</td>\n",
        "      <td>5</td>\n",
        "    </tr>\n",
        "    <tr>\n",
        "      <th>subject-05</th>\n",
        "      <td>5</td>\n",
        "      <td>5</td>\n",
        "      <td>5</td>\n",
        "      <td>5</td>\n",
        "      <td>5</td>\n",
        "      <td>5</td>\n",
        "      <td>5</td>\n",
        "      <td>5</td>\n",
        "      <td>5</td>\n",
        "      <td>5</td>\n",
        "      <td>5</td>\n",
        "    </tr>\n",
        "    <tr>\n",
        "      <th>subject-06</th>\n",
        "      <td>5</td>\n",
        "      <td>5</td>\n",
        "      <td>5</td>\n",
        "      <td>5</td>\n",
        "      <td>5</td>\n",
        "      <td>5</td>\n",
        "      <td>5</td>\n",
        "      <td>5</td>\n",
        "      <td>5</td>\n",
        "      <td>5</td>\n",
        "      <td>5</td>\n",
        "    </tr>\n",
        "    <tr>\n",
        "      <th>subject-07</th>\n",
        "      <td>5</td>\n",
        "      <td>5</td>\n",
        "      <td>5</td>\n",
        "      <td>5</td>\n",
        "      <td>5</td>\n",
        "      <td>5</td>\n",
        "      <td>5</td>\n",
        "      <td>5</td>\n",
        "      <td>5</td>\n",
        "      <td>5</td>\n",
        "      <td>5</td>\n",
        "    </tr>\n",
        "    <tr>\n",
        "      <th>subject-08</th>\n",
        "      <td>5</td>\n",
        "      <td>5</td>\n",
        "      <td>5</td>\n",
        "      <td>5</td>\n",
        "      <td>5</td>\n",
        "      <td>5</td>\n",
        "      <td>5</td>\n",
        "      <td>5</td>\n",
        "      <td>5</td>\n",
        "      <td>5</td>\n",
        "      <td>5</td>\n",
        "    </tr>\n",
        "    <tr>\n",
        "      <th>subject-09</th>\n",
        "      <td>5</td>\n",
        "      <td>5</td>\n",
        "      <td>5</td>\n",
        "      <td>5</td>\n",
        "      <td>5</td>\n",
        "      <td>5</td>\n",
        "      <td>5</td>\n",
        "      <td>5</td>\n",
        "      <td>5</td>\n",
        "      <td>5</td>\n",
        "      <td>5</td>\n",
        "    </tr>\n",
        "    <tr>\n",
        "      <th rowspan=\"10\" valign=\"top\">T2</th>\n",
        "      <th>subject-00</th>\n",
        "      <td>5</td>\n",
        "      <td>5</td>\n",
        "      <td>5</td>\n",
        "      <td>5</td>\n",
        "      <td>5</td>\n",
        "      <td>5</td>\n",
        "      <td>5</td>\n",
        "      <td>5</td>\n",
        "      <td>5</td>\n",
        "      <td>5</td>\n",
        "      <td>5</td>\n",
        "    </tr>\n",
        "    <tr>\n",
        "      <th>subject-01</th>\n",
        "      <td>5</td>\n",
        "      <td>5</td>\n",
        "      <td>5</td>\n",
        "      <td>5</td>\n",
        "      <td>5</td>\n",
        "      <td>5</td>\n",
        "      <td>5</td>\n",
        "      <td>5</td>\n",
        "      <td>5</td>\n",
        "      <td>5</td>\n",
        "      <td>5</td>\n",
        "    </tr>\n",
        "    <tr>\n",
        "      <th>subject-02</th>\n",
        "      <td>5</td>\n",
        "      <td>5</td>\n",
        "      <td>5</td>\n",
        "      <td>5</td>\n",
        "      <td>5</td>\n",
        "      <td>5</td>\n",
        "      <td>5</td>\n",
        "      <td>5</td>\n",
        "      <td>5</td>\n",
        "      <td>5</td>\n",
        "      <td>5</td>\n",
        "    </tr>\n",
        "    <tr>\n",
        "      <th>subject-03</th>\n",
        "      <td>5</td>\n",
        "      <td>5</td>\n",
        "      <td>5</td>\n",
        "      <td>5</td>\n",
        "      <td>5</td>\n",
        "      <td>5</td>\n",
        "      <td>5</td>\n",
        "      <td>5</td>\n",
        "      <td>5</td>\n",
        "      <td>5</td>\n",
        "      <td>5</td>\n",
        "    </tr>\n",
        "    <tr>\n",
        "      <th>subject-04</th>\n",
        "      <td>5</td>\n",
        "      <td>5</td>\n",
        "      <td>5</td>\n",
        "      <td>5</td>\n",
        "      <td>5</td>\n",
        "      <td>5</td>\n",
        "      <td>5</td>\n",
        "      <td>5</td>\n",
        "      <td>5</td>\n",
        "      <td>5</td>\n",
        "      <td>5</td>\n",
        "    </tr>\n",
        "    <tr>\n",
        "      <th>subject-05</th>\n",
        "      <td>5</td>\n",
        "      <td>5</td>\n",
        "      <td>5</td>\n",
        "      <td>5</td>\n",
        "      <td>5</td>\n",
        "      <td>5</td>\n",
        "      <td>5</td>\n",
        "      <td>5</td>\n",
        "      <td>5</td>\n",
        "      <td>5</td>\n",
        "      <td>5</td>\n",
        "    </tr>\n",
        "    <tr>\n",
        "      <th>subject-06</th>\n",
        "      <td>5</td>\n",
        "      <td>5</td>\n",
        "      <td>5</td>\n",
        "      <td>5</td>\n",
        "      <td>5</td>\n",
        "      <td>5</td>\n",
        "      <td>5</td>\n",
        "      <td>5</td>\n",
        "      <td>5</td>\n",
        "      <td>5</td>\n",
        "      <td>5</td>\n",
        "    </tr>\n",
        "    <tr>\n",
        "      <th>subject-07</th>\n",
        "      <td>5</td>\n",
        "      <td>5</td>\n",
        "      <td>5</td>\n",
        "      <td>5</td>\n",
        "      <td>5</td>\n",
        "      <td>5</td>\n",
        "      <td>5</td>\n",
        "      <td>5</td>\n",
        "      <td>5</td>\n",
        "      <td>5</td>\n",
        "      <td>5</td>\n",
        "    </tr>\n",
        "    <tr>\n",
        "      <th>subject-08</th>\n",
        "      <td>5</td>\n",
        "      <td>5</td>\n",
        "      <td>5</td>\n",
        "      <td>5</td>\n",
        "      <td>5</td>\n",
        "      <td>5</td>\n",
        "      <td>5</td>\n",
        "      <td>5</td>\n",
        "      <td>5</td>\n",
        "      <td>5</td>\n",
        "      <td>5</td>\n",
        "    </tr>\n",
        "    <tr>\n",
        "      <th>subject-09</th>\n",
        "      <td>5</td>\n",
        "      <td>5</td>\n",
        "      <td>5</td>\n",
        "      <td>5</td>\n",
        "      <td>5</td>\n",
        "      <td>5</td>\n",
        "      <td>5</td>\n",
        "      <td>5</td>\n",
        "      <td>5</td>\n",
        "      <td>5</td>\n",
        "      <td>5</td>\n",
        "    </tr>\n",
        "    <tr>\n",
        "      <th rowspan=\"24\" valign=\"top\">group-2</th>\n",
        "      <th rowspan=\"12\" valign=\"top\">T1</th>\n",
        "      <th>subject-00</th>\n",
        "      <td>5</td>\n",
        "      <td>5</td>\n",
        "      <td>5</td>\n",
        "      <td>5</td>\n",
        "      <td>5</td>\n",
        "      <td>5</td>\n",
        "      <td>5</td>\n",
        "      <td>5</td>\n",
        "      <td>5</td>\n",
        "      <td>5</td>\n",
        "      <td>5</td>\n",
        "    </tr>\n",
        "    <tr>\n",
        "      <th>subject-01</th>\n",
        "      <td>5</td>\n",
        "      <td>5</td>\n",
        "      <td>5</td>\n",
        "      <td>5</td>\n",
        "      <td>5</td>\n",
        "      <td>5</td>\n",
        "      <td>5</td>\n",
        "      <td>5</td>\n",
        "      <td>5</td>\n",
        "      <td>5</td>\n",
        "      <td>5</td>\n",
        "    </tr>\n",
        "    <tr>\n",
        "      <th>subject-02</th>\n",
        "      <td>5</td>\n",
        "      <td>5</td>\n",
        "      <td>5</td>\n",
        "      <td>5</td>\n",
        "      <td>5</td>\n",
        "      <td>5</td>\n",
        "      <td>5</td>\n",
        "      <td>5</td>\n",
        "      <td>5</td>\n",
        "      <td>5</td>\n",
        "      <td>5</td>\n",
        "    </tr>\n",
        "    <tr>\n",
        "      <th>subject-03</th>\n",
        "      <td>5</td>\n",
        "      <td>5</td>\n",
        "      <td>5</td>\n",
        "      <td>5</td>\n",
        "      <td>5</td>\n",
        "      <td>5</td>\n",
        "      <td>5</td>\n",
        "      <td>5</td>\n",
        "      <td>5</td>\n",
        "      <td>5</td>\n",
        "      <td>5</td>\n",
        "    </tr>\n",
        "    <tr>\n",
        "      <th>subject-04</th>\n",
        "      <td>5</td>\n",
        "      <td>5</td>\n",
        "      <td>5</td>\n",
        "      <td>5</td>\n",
        "      <td>5</td>\n",
        "      <td>5</td>\n",
        "      <td>5</td>\n",
        "      <td>5</td>\n",
        "      <td>5</td>\n",
        "      <td>5</td>\n",
        "      <td>5</td>\n",
        "    </tr>\n",
        "    <tr>\n",
        "      <th>subject-05</th>\n",
        "      <td>5</td>\n",
        "      <td>5</td>\n",
        "      <td>5</td>\n",
        "      <td>5</td>\n",
        "      <td>5</td>\n",
        "      <td>5</td>\n",
        "      <td>5</td>\n",
        "      <td>5</td>\n",
        "      <td>5</td>\n",
        "      <td>5</td>\n",
        "      <td>5</td>\n",
        "    </tr>\n",
        "    <tr>\n",
        "      <th>subject-06</th>\n",
        "      <td>5</td>\n",
        "      <td>5</td>\n",
        "      <td>5</td>\n",
        "      <td>5</td>\n",
        "      <td>5</td>\n",
        "      <td>5</td>\n",
        "      <td>5</td>\n",
        "      <td>5</td>\n",
        "      <td>5</td>\n",
        "      <td>5</td>\n",
        "      <td>5</td>\n",
        "    </tr>\n",
        "    <tr>\n",
        "      <th>subject-07</th>\n",
        "      <td>5</td>\n",
        "      <td>5</td>\n",
        "      <td>5</td>\n",
        "      <td>5</td>\n",
        "      <td>5</td>\n",
        "      <td>5</td>\n",
        "      <td>5</td>\n",
        "      <td>5</td>\n",
        "      <td>5</td>\n",
        "      <td>5</td>\n",
        "      <td>5</td>\n",
        "    </tr>\n",
        "    <tr>\n",
        "      <th>subject-08</th>\n",
        "      <td>5</td>\n",
        "      <td>5</td>\n",
        "      <td>5</td>\n",
        "      <td>5</td>\n",
        "      <td>5</td>\n",
        "      <td>5</td>\n",
        "      <td>5</td>\n",
        "      <td>5</td>\n",
        "      <td>5</td>\n",
        "      <td>5</td>\n",
        "      <td>5</td>\n",
        "    </tr>\n",
        "    <tr>\n",
        "      <th>subject-09</th>\n",
        "      <td>5</td>\n",
        "      <td>5</td>\n",
        "      <td>5</td>\n",
        "      <td>5</td>\n",
        "      <td>5</td>\n",
        "      <td>5</td>\n",
        "      <td>5</td>\n",
        "      <td>5</td>\n",
        "      <td>5</td>\n",
        "      <td>5</td>\n",
        "      <td>5</td>\n",
        "    </tr>\n",
        "    <tr>\n",
        "      <th>subject-10</th>\n",
        "      <td>5</td>\n",
        "      <td>5</td>\n",
        "      <td>5</td>\n",
        "      <td>5</td>\n",
        "      <td>5</td>\n",
        "      <td>5</td>\n",
        "      <td>5</td>\n",
        "      <td>5</td>\n",
        "      <td>5</td>\n",
        "      <td>5</td>\n",
        "      <td>5</td>\n",
        "    </tr>\n",
        "    <tr>\n",
        "      <th>subject-11</th>\n",
        "      <td>5</td>\n",
        "      <td>5</td>\n",
        "      <td>5</td>\n",
        "      <td>5</td>\n",
        "      <td>5</td>\n",
        "      <td>5</td>\n",
        "      <td>5</td>\n",
        "      <td>5</td>\n",
        "      <td>5</td>\n",
        "      <td>5</td>\n",
        "      <td>5</td>\n",
        "    </tr>\n",
        "    <tr>\n",
        "      <th rowspan=\"12\" valign=\"top\">T2</th>\n",
        "      <th>subject-00</th>\n",
        "      <td>5</td>\n",
        "      <td>5</td>\n",
        "      <td>5</td>\n",
        "      <td>5</td>\n",
        "      <td>5</td>\n",
        "      <td>5</td>\n",
        "      <td>5</td>\n",
        "      <td>5</td>\n",
        "      <td>5</td>\n",
        "      <td>5</td>\n",
        "      <td>5</td>\n",
        "    </tr>\n",
        "    <tr>\n",
        "      <th>subject-01</th>\n",
        "      <td>5</td>\n",
        "      <td>5</td>\n",
        "      <td>5</td>\n",
        "      <td>5</td>\n",
        "      <td>5</td>\n",
        "      <td>5</td>\n",
        "      <td>5</td>\n",
        "      <td>5</td>\n",
        "      <td>5</td>\n",
        "      <td>5</td>\n",
        "      <td>5</td>\n",
        "    </tr>\n",
        "    <tr>\n",
        "      <th>subject-02</th>\n",
        "      <td>5</td>\n",
        "      <td>5</td>\n",
        "      <td>5</td>\n",
        "      <td>5</td>\n",
        "      <td>5</td>\n",
        "      <td>5</td>\n",
        "      <td>5</td>\n",
        "      <td>5</td>\n",
        "      <td>5</td>\n",
        "      <td>5</td>\n",
        "      <td>5</td>\n",
        "    </tr>\n",
        "    <tr>\n",
        "      <th>subject-03</th>\n",
        "      <td>5</td>\n",
        "      <td>5</td>\n",
        "      <td>5</td>\n",
        "      <td>5</td>\n",
        "      <td>5</td>\n",
        "      <td>5</td>\n",
        "      <td>5</td>\n",
        "      <td>5</td>\n",
        "      <td>5</td>\n",
        "      <td>5</td>\n",
        "      <td>5</td>\n",
        "    </tr>\n",
        "    <tr>\n",
        "      <th>subject-04</th>\n",
        "      <td>5</td>\n",
        "      <td>5</td>\n",
        "      <td>5</td>\n",
        "      <td>5</td>\n",
        "      <td>5</td>\n",
        "      <td>5</td>\n",
        "      <td>5</td>\n",
        "      <td>5</td>\n",
        "      <td>5</td>\n",
        "      <td>5</td>\n",
        "      <td>5</td>\n",
        "    </tr>\n",
        "    <tr>\n",
        "      <th>subject-05</th>\n",
        "      <td>5</td>\n",
        "      <td>5</td>\n",
        "      <td>5</td>\n",
        "      <td>5</td>\n",
        "      <td>5</td>\n",
        "      <td>5</td>\n",
        "      <td>5</td>\n",
        "      <td>5</td>\n",
        "      <td>5</td>\n",
        "      <td>5</td>\n",
        "      <td>5</td>\n",
        "    </tr>\n",
        "    <tr>\n",
        "      <th>subject-06</th>\n",
        "      <td>5</td>\n",
        "      <td>5</td>\n",
        "      <td>5</td>\n",
        "      <td>5</td>\n",
        "      <td>5</td>\n",
        "      <td>5</td>\n",
        "      <td>5</td>\n",
        "      <td>5</td>\n",
        "      <td>5</td>\n",
        "      <td>5</td>\n",
        "      <td>5</td>\n",
        "    </tr>\n",
        "    <tr>\n",
        "      <th>subject-07</th>\n",
        "      <td>5</td>\n",
        "      <td>5</td>\n",
        "      <td>5</td>\n",
        "      <td>5</td>\n",
        "      <td>5</td>\n",
        "      <td>5</td>\n",
        "      <td>5</td>\n",
        "      <td>5</td>\n",
        "      <td>5</td>\n",
        "      <td>5</td>\n",
        "      <td>5</td>\n",
        "    </tr>\n",
        "    <tr>\n",
        "      <th>subject-08</th>\n",
        "      <td>5</td>\n",
        "      <td>5</td>\n",
        "      <td>5</td>\n",
        "      <td>5</td>\n",
        "      <td>5</td>\n",
        "      <td>5</td>\n",
        "      <td>5</td>\n",
        "      <td>5</td>\n",
        "      <td>5</td>\n",
        "      <td>5</td>\n",
        "      <td>5</td>\n",
        "    </tr>\n",
        "    <tr>\n",
        "      <th>subject-09</th>\n",
        "      <td>5</td>\n",
        "      <td>5</td>\n",
        "      <td>5</td>\n",
        "      <td>5</td>\n",
        "      <td>5</td>\n",
        "      <td>5</td>\n",
        "      <td>5</td>\n",
        "      <td>5</td>\n",
        "      <td>5</td>\n",
        "      <td>5</td>\n",
        "      <td>5</td>\n",
        "    </tr>\n",
        "    <tr>\n",
        "      <th>subject-10</th>\n",
        "      <td>5</td>\n",
        "      <td>5</td>\n",
        "      <td>5</td>\n",
        "      <td>5</td>\n",
        "      <td>5</td>\n",
        "      <td>5</td>\n",
        "      <td>5</td>\n",
        "      <td>5</td>\n",
        "      <td>5</td>\n",
        "      <td>5</td>\n",
        "      <td>5</td>\n",
        "    </tr>\n",
        "    <tr>\n",
        "      <th>subject-11</th>\n",
        "      <td>5</td>\n",
        "      <td>5</td>\n",
        "      <td>5</td>\n",
        "      <td>5</td>\n",
        "      <td>5</td>\n",
        "      <td>5</td>\n",
        "      <td>5</td>\n",
        "      <td>5</td>\n",
        "      <td>5</td>\n",
        "      <td>5</td>\n",
        "      <td>5</td>\n",
        "    </tr>\n",
        "  </tbody>\n",
        "</table>\n",
        "</div>"
       ],
       "metadata": {},
       "output_type": "pyout",
       "prompt_number": 3,
       "text": [
        "                         O1  O2  Oz  Cz  C3  C4  Fz  F8  F7  Fpz  feature\n",
        "group   time subject                                                     \n",
        "group-1 T1   subject-00   5   5   5   5   5   5   5   5   5    5        5\n",
        "             subject-01   5   5   5   5   5   5   5   5   5    5        5\n",
        "             subject-02   5   5   5   5   5   5   5   5   5    5        5\n",
        "             subject-03   5   5   5   5   5   5   5   5   5    5        5\n",
        "             subject-04   5   5   5   5   5   5   5   5   5    5        5\n",
        "             subject-05   5   5   5   5   5   5   5   5   5    5        5\n",
        "             subject-06   5   5   5   5   5   5   5   5   5    5        5\n",
        "             subject-07   5   5   5   5   5   5   5   5   5    5        5\n",
        "             subject-08   5   5   5   5   5   5   5   5   5    5        5\n",
        "             subject-09   5   5   5   5   5   5   5   5   5    5        5\n",
        "        T2   subject-00   5   5   5   5   5   5   5   5   5    5        5\n",
        "             subject-01   5   5   5   5   5   5   5   5   5    5        5\n",
        "             subject-02   5   5   5   5   5   5   5   5   5    5        5\n",
        "             subject-03   5   5   5   5   5   5   5   5   5    5        5\n",
        "             subject-04   5   5   5   5   5   5   5   5   5    5        5\n",
        "             subject-05   5   5   5   5   5   5   5   5   5    5        5\n",
        "             subject-06   5   5   5   5   5   5   5   5   5    5        5\n",
        "             subject-07   5   5   5   5   5   5   5   5   5    5        5\n",
        "             subject-08   5   5   5   5   5   5   5   5   5    5        5\n",
        "             subject-09   5   5   5   5   5   5   5   5   5    5        5\n",
        "group-2 T1   subject-00   5   5   5   5   5   5   5   5   5    5        5\n",
        "             subject-01   5   5   5   5   5   5   5   5   5    5        5\n",
        "             subject-02   5   5   5   5   5   5   5   5   5    5        5\n",
        "             subject-03   5   5   5   5   5   5   5   5   5    5        5\n",
        "             subject-04   5   5   5   5   5   5   5   5   5    5        5\n",
        "             subject-05   5   5   5   5   5   5   5   5   5    5        5\n",
        "             subject-06   5   5   5   5   5   5   5   5   5    5        5\n",
        "             subject-07   5   5   5   5   5   5   5   5   5    5        5\n",
        "             subject-08   5   5   5   5   5   5   5   5   5    5        5\n",
        "             subject-09   5   5   5   5   5   5   5   5   5    5        5\n",
        "             subject-10   5   5   5   5   5   5   5   5   5    5        5\n",
        "             subject-11   5   5   5   5   5   5   5   5   5    5        5\n",
        "        T2   subject-00   5   5   5   5   5   5   5   5   5    5        5\n",
        "             subject-01   5   5   5   5   5   5   5   5   5    5        5\n",
        "             subject-02   5   5   5   5   5   5   5   5   5    5        5\n",
        "             subject-03   5   5   5   5   5   5   5   5   5    5        5\n",
        "             subject-04   5   5   5   5   5   5   5   5   5    5        5\n",
        "             subject-05   5   5   5   5   5   5   5   5   5    5        5\n",
        "             subject-06   5   5   5   5   5   5   5   5   5    5        5\n",
        "             subject-07   5   5   5   5   5   5   5   5   5    5        5\n",
        "             subject-08   5   5   5   5   5   5   5   5   5    5        5\n",
        "             subject-09   5   5   5   5   5   5   5   5   5    5        5\n",
        "             subject-10   5   5   5   5   5   5   5   5   5    5        5\n",
        "             subject-11   5   5   5   5   5   5   5   5   5    5        5"
       ]
      }
     ],
     "prompt_number": 3
    },
    {
     "cell_type": "markdown",
     "metadata": {},
     "source": [
      "Subject 10 and 11 are only present in the Group 2"
     ]
    },
    {
     "cell_type": "code",
     "collapsed": false,
     "input": [
      "# Let's make a chart of available data\n",
      "robj.pandas2ri.activate()\n",
      "R_chart_code = robj.r('''\n",
      "function(df) {\n",
      "\n",
      "require(ggplot2)\n",
      "require(GGally)\n",
      "\n",
      "gp = GGally::ggpairs(df[,c('group','subject','time')])\n",
      "\n",
      "png('dataset-pairs.png',pointsize=24, width=1024, height=768)\n",
      "print(gp)\n",
      "dev.off()\n",
      "\n",
      "}\n",
      "''')\n",
      "data_r = robj.conversion.py2ri(data)\n",
      "#R_chart_code(data_r)\n",
      "\n",
      "#plt.imshow(plt.imread('dataset-pairs.png'), aspect='auto')\n",
      "#plt.axis('off')"
     ],
     "language": "python",
     "metadata": {},
     "outputs": [],
     "prompt_number": 4
    },
    {
     "cell_type": "raw",
     "metadata": {},
     "source": [
      "Data is organized as\n",
      "             Group \n",
      "        group-1 group-2\n",
      "Time T1     ...     ...\n",
      "     T2     ...     ..."
     ]
    },
    {
     "cell_type": "heading",
     "level": 1,
     "metadata": {},
     "source": [
      "Effect of group"
     ]
    },
    {
     "cell_type": "code",
     "collapsed": false,
     "input": [
      "data.groupby(['feature','group']).mean()"
     ],
     "language": "python",
     "metadata": {},
     "outputs": [
      {
       "html": [
        "<div style=\"max-width:1500px;overflow:auto;\">\n",
        "<table border=\"1\" class=\"dataframe\">\n",
        "  <thead>\n",
        "    <tr style=\"text-align: right;\">\n",
        "      <th></th>\n",
        "      <th></th>\n",
        "      <th>O1</th>\n",
        "      <th>O2</th>\n",
        "      <th>Oz</th>\n",
        "      <th>Cz</th>\n",
        "      <th>C3</th>\n",
        "      <th>C4</th>\n",
        "      <th>Fz</th>\n",
        "      <th>F8</th>\n",
        "      <th>F7</th>\n",
        "      <th>Fpz</th>\n",
        "    </tr>\n",
        "    <tr>\n",
        "      <th>feature</th>\n",
        "      <th>group</th>\n",
        "      <th></th>\n",
        "      <th></th>\n",
        "      <th></th>\n",
        "      <th></th>\n",
        "      <th></th>\n",
        "      <th></th>\n",
        "      <th></th>\n",
        "      <th></th>\n",
        "      <th></th>\n",
        "      <th></th>\n",
        "    </tr>\n",
        "  </thead>\n",
        "  <tbody>\n",
        "    <tr>\n",
        "      <th rowspan=\"2\" valign=\"top\">Y1</th>\n",
        "      <th>group-1</th>\n",
        "      <td>-0.003946</td>\n",
        "      <td>-0.021807</td>\n",
        "      <td>0.001816</td>\n",
        "      <td>-0.047614</td>\n",
        "      <td>-0.003605</td>\n",
        "      <td>-0.030603</td>\n",
        "      <td>-0.007587</td>\n",
        "      <td>0.005554</td>\n",
        "      <td>-0.018315</td>\n",
        "      <td>0.021105</td>\n",
        "    </tr>\n",
        "    <tr>\n",
        "      <th>group-2</th>\n",
        "      <td>0.026345</td>\n",
        "      <td>0.010443</td>\n",
        "      <td>0.001270</td>\n",
        "      <td>-0.001270</td>\n",
        "      <td>-0.006412</td>\n",
        "      <td>-0.008500</td>\n",
        "      <td>-0.004216</td>\n",
        "      <td>-0.018102</td>\n",
        "      <td>-0.009461</td>\n",
        "      <td>0.012688</td>\n",
        "    </tr>\n",
        "    <tr>\n",
        "      <th rowspan=\"2\" valign=\"top\">Y2</th>\n",
        "      <th>group-1</th>\n",
        "      <td>0.040439</td>\n",
        "      <td>-0.016682</td>\n",
        "      <td>-0.047101</td>\n",
        "      <td>-0.028006</td>\n",
        "      <td>0.018786</td>\n",
        "      <td>0.002655</td>\n",
        "      <td>0.001642</td>\n",
        "      <td>0.027908</td>\n",
        "      <td>0.028664</td>\n",
        "      <td>0.005043</td>\n",
        "    </tr>\n",
        "    <tr>\n",
        "      <th>group-2</th>\n",
        "      <td>0.005790</td>\n",
        "      <td>-0.006772</td>\n",
        "      <td>-0.025917</td>\n",
        "      <td>0.031773</td>\n",
        "      <td>0.035582</td>\n",
        "      <td>0.007793</td>\n",
        "      <td>0.007287</td>\n",
        "      <td>0.027707</td>\n",
        "      <td>-0.012140</td>\n",
        "      <td>0.002544</td>\n",
        "    </tr>\n",
        "    <tr>\n",
        "      <th rowspan=\"2\" valign=\"top\">Y3</th>\n",
        "      <th>group-1</th>\n",
        "      <td>0.016044</td>\n",
        "      <td>0.001820</td>\n",
        "      <td>-0.022804</td>\n",
        "      <td>0.013352</td>\n",
        "      <td>0.012304</td>\n",
        "      <td>0.422052</td>\n",
        "      <td>-0.021196</td>\n",
        "      <td>-0.002334</td>\n",
        "      <td>0.044615</td>\n",
        "      <td>-0.003740</td>\n",
        "    </tr>\n",
        "    <tr>\n",
        "      <th>group-2</th>\n",
        "      <td>0.021054</td>\n",
        "      <td>-0.018602</td>\n",
        "      <td>-0.028482</td>\n",
        "      <td>0.004790</td>\n",
        "      <td>-0.045411</td>\n",
        "      <td>0.177953</td>\n",
        "      <td>-0.048348</td>\n",
        "      <td>0.020160</td>\n",
        "      <td>0.005658</td>\n",
        "      <td>-0.008149</td>\n",
        "    </tr>\n",
        "    <tr>\n",
        "      <th rowspan=\"2\" valign=\"top\">Y4</th>\n",
        "      <th>group-1</th>\n",
        "      <td>-0.001861</td>\n",
        "      <td>-0.028723</td>\n",
        "      <td>0.002372</td>\n",
        "      <td>0.060918</td>\n",
        "      <td>0.002819</td>\n",
        "      <td>0.064724</td>\n",
        "      <td>0.007237</td>\n",
        "      <td>0.013906</td>\n",
        "      <td>-0.024468</td>\n",
        "      <td>0.028235</td>\n",
        "    </tr>\n",
        "    <tr>\n",
        "      <th>group-2</th>\n",
        "      <td>-0.019268</td>\n",
        "      <td>0.035682</td>\n",
        "      <td>-0.012785</td>\n",
        "      <td>0.030979</td>\n",
        "      <td>0.012255</td>\n",
        "      <td>-0.056957</td>\n",
        "      <td>-0.029695</td>\n",
        "      <td>0.011026</td>\n",
        "      <td>0.018992</td>\n",
        "      <td>0.025997</td>\n",
        "    </tr>\n",
        "    <tr>\n",
        "      <th rowspan=\"2\" valign=\"top\">Y5</th>\n",
        "      <th>group-1</th>\n",
        "      <td>0.014730</td>\n",
        "      <td>-0.034391</td>\n",
        "      <td>-0.005360</td>\n",
        "      <td>-0.006389</td>\n",
        "      <td>0.028622</td>\n",
        "      <td>0.201671</td>\n",
        "      <td>-0.004201</td>\n",
        "      <td>0.016384</td>\n",
        "      <td>-0.010131</td>\n",
        "      <td>-0.015634</td>\n",
        "    </tr>\n",
        "    <tr>\n",
        "      <th>group-2</th>\n",
        "      <td>0.007018</td>\n",
        "      <td>-0.007629</td>\n",
        "      <td>0.002480</td>\n",
        "      <td>0.006183</td>\n",
        "      <td>-0.015547</td>\n",
        "      <td>0.039757</td>\n",
        "      <td>0.007273</td>\n",
        "      <td>-0.006567</td>\n",
        "      <td>0.014865</td>\n",
        "      <td>-0.000490</td>\n",
        "    </tr>\n",
        "  </tbody>\n",
        "</table>\n",
        "</div>"
       ],
       "metadata": {},
       "output_type": "pyout",
       "prompt_number": 11,
       "text": [
        "                       O1        O2        Oz        Cz        C3        C4  \\\n",
        "feature group                                                                 \n",
        "Y1      group-1 -0.003946 -0.021807  0.001816 -0.047614 -0.003605 -0.030603   \n",
        "        group-2  0.026345  0.010443  0.001270 -0.001270 -0.006412 -0.008500   \n",
        "Y2      group-1  0.040439 -0.016682 -0.047101 -0.028006  0.018786  0.002655   \n",
        "        group-2  0.005790 -0.006772 -0.025917  0.031773  0.035582  0.007793   \n",
        "Y3      group-1  0.016044  0.001820 -0.022804  0.013352  0.012304  0.422052   \n",
        "        group-2  0.021054 -0.018602 -0.028482  0.004790 -0.045411  0.177953   \n",
        "Y4      group-1 -0.001861 -0.028723  0.002372  0.060918  0.002819  0.064724   \n",
        "        group-2 -0.019268  0.035682 -0.012785  0.030979  0.012255 -0.056957   \n",
        "Y5      group-1  0.014730 -0.034391 -0.005360 -0.006389  0.028622  0.201671   \n",
        "        group-2  0.007018 -0.007629  0.002480  0.006183 -0.015547  0.039757   \n",
        "\n",
        "                       Fz        F8        F7       Fpz  \n",
        "feature group                                            \n",
        "Y1      group-1 -0.007587  0.005554 -0.018315  0.021105  \n",
        "        group-2 -0.004216 -0.018102 -0.009461  0.012688  \n",
        "Y2      group-1  0.001642  0.027908  0.028664  0.005043  \n",
        "        group-2  0.007287  0.027707 -0.012140  0.002544  \n",
        "Y3      group-1 -0.021196 -0.002334  0.044615 -0.003740  \n",
        "        group-2 -0.048348  0.020160  0.005658 -0.008149  \n",
        "Y4      group-1  0.007237  0.013906 -0.024468  0.028235  \n",
        "        group-2 -0.029695  0.011026  0.018992  0.025997  \n",
        "Y5      group-1 -0.004201  0.016384 -0.010131 -0.015634  \n",
        "        group-2  0.007273 -0.006567  0.014865 -0.000490  "
       ]
      }
     ],
     "prompt_number": 11
    },
    {
     "cell_type": "markdown",
     "metadata": {},
     "source": [
      "Is there an effect of group for time=T1?\n",
      "\n",
      "Considering output variables as all five different features, for each electrode"
     ]
    },
    {
     "cell_type": "code",
     "collapsed": false,
     "input": [
      "data[data.time=='T1'].groupby(['feature','group']).mean()"
     ],
     "language": "python",
     "metadata": {},
     "outputs": [
      {
       "html": [
        "<div style=\"max-width:1500px;overflow:auto;\">\n",
        "<table border=\"1\" class=\"dataframe\">\n",
        "  <thead>\n",
        "    <tr style=\"text-align: right;\">\n",
        "      <th></th>\n",
        "      <th></th>\n",
        "      <th>O1</th>\n",
        "      <th>O2</th>\n",
        "      <th>Oz</th>\n",
        "      <th>Cz</th>\n",
        "      <th>C3</th>\n",
        "      <th>C4</th>\n",
        "      <th>Fz</th>\n",
        "      <th>F8</th>\n",
        "      <th>F7</th>\n",
        "      <th>Fpz</th>\n",
        "    </tr>\n",
        "    <tr>\n",
        "      <th>feature</th>\n",
        "      <th>group</th>\n",
        "      <th></th>\n",
        "      <th></th>\n",
        "      <th></th>\n",
        "      <th></th>\n",
        "      <th></th>\n",
        "      <th></th>\n",
        "      <th></th>\n",
        "      <th></th>\n",
        "      <th></th>\n",
        "      <th></th>\n",
        "    </tr>\n",
        "  </thead>\n",
        "  <tbody>\n",
        "    <tr>\n",
        "      <th rowspan=\"2\" valign=\"top\">Y1</th>\n",
        "      <th>group-1</th>\n",
        "      <td>0.030429</td>\n",
        "      <td>-0.032116</td>\n",
        "      <td>0.020573</td>\n",
        "      <td>-0.056354</td>\n",
        "      <td>-0.039607</td>\n",
        "      <td>-0.054090</td>\n",
        "      <td>-0.009287</td>\n",
        "      <td>0.020543</td>\n",
        "      <td>-0.023351</td>\n",
        "      <td>0.022115</td>\n",
        "    </tr>\n",
        "    <tr>\n",
        "      <th>group-2</th>\n",
        "      <td>0.029352</td>\n",
        "      <td>-0.008531</td>\n",
        "      <td>-0.010835</td>\n",
        "      <td>0.006600</td>\n",
        "      <td>-0.024270</td>\n",
        "      <td>-0.002564</td>\n",
        "      <td>0.005140</td>\n",
        "      <td>-0.011245</td>\n",
        "      <td>0.001667</td>\n",
        "      <td>-0.039262</td>\n",
        "    </tr>\n",
        "    <tr>\n",
        "      <th rowspan=\"2\" valign=\"top\">Y2</th>\n",
        "      <th>group-1</th>\n",
        "      <td>0.054466</td>\n",
        "      <td>-0.029206</td>\n",
        "      <td>-0.051280</td>\n",
        "      <td>-0.086210</td>\n",
        "      <td>0.023772</td>\n",
        "      <td>0.025277</td>\n",
        "      <td>0.033318</td>\n",
        "      <td>0.047421</td>\n",
        "      <td>0.051367</td>\n",
        "      <td>-0.018493</td>\n",
        "    </tr>\n",
        "    <tr>\n",
        "      <th>group-2</th>\n",
        "      <td>0.010589</td>\n",
        "      <td>-0.035916</td>\n",
        "      <td>-0.024660</td>\n",
        "      <td>0.041625</td>\n",
        "      <td>0.011879</td>\n",
        "      <td>-0.029978</td>\n",
        "      <td>-0.000338</td>\n",
        "      <td>0.054774</td>\n",
        "      <td>-0.045764</td>\n",
        "      <td>-0.015272</td>\n",
        "    </tr>\n",
        "    <tr>\n",
        "      <th rowspan=\"2\" valign=\"top\">Y3</th>\n",
        "      <th>group-1</th>\n",
        "      <td>0.009508</td>\n",
        "      <td>0.053561</td>\n",
        "      <td>0.010303</td>\n",
        "      <td>0.028418</td>\n",
        "      <td>0.050829</td>\n",
        "      <td>0.198710</td>\n",
        "      <td>-0.004988</td>\n",
        "      <td>0.019686</td>\n",
        "      <td>0.004071</td>\n",
        "      <td>-0.025451</td>\n",
        "    </tr>\n",
        "    <tr>\n",
        "      <th>group-2</th>\n",
        "      <td>0.011022</td>\n",
        "      <td>0.010512</td>\n",
        "      <td>-0.011150</td>\n",
        "      <td>0.034502</td>\n",
        "      <td>-0.079794</td>\n",
        "      <td>0.123358</td>\n",
        "      <td>-0.037907</td>\n",
        "      <td>0.063274</td>\n",
        "      <td>0.012235</td>\n",
        "      <td>-0.014260</td>\n",
        "    </tr>\n",
        "    <tr>\n",
        "      <th rowspan=\"2\" valign=\"top\">Y4</th>\n",
        "      <th>group-1</th>\n",
        "      <td>0.053724</td>\n",
        "      <td>-0.019878</td>\n",
        "      <td>-0.009335</td>\n",
        "      <td>0.081867</td>\n",
        "      <td>-0.028708</td>\n",
        "      <td>-0.084002</td>\n",
        "      <td>-0.012750</td>\n",
        "      <td>0.057803</td>\n",
        "      <td>0.001695</td>\n",
        "      <td>0.051312</td>\n",
        "    </tr>\n",
        "    <tr>\n",
        "      <th>group-2</th>\n",
        "      <td>-0.028874</td>\n",
        "      <td>0.022413</td>\n",
        "      <td>-0.018940</td>\n",
        "      <td>0.032732</td>\n",
        "      <td>0.016544</td>\n",
        "      <td>-0.156911</td>\n",
        "      <td>-0.063961</td>\n",
        "      <td>0.002701</td>\n",
        "      <td>-0.003191</td>\n",
        "      <td>0.028085</td>\n",
        "    </tr>\n",
        "    <tr>\n",
        "      <th rowspan=\"2\" valign=\"top\">Y5</th>\n",
        "      <th>group-1</th>\n",
        "      <td>0.047057</td>\n",
        "      <td>-0.022849</td>\n",
        "      <td>-0.022346</td>\n",
        "      <td>-0.015762</td>\n",
        "      <td>-0.004072</td>\n",
        "      <td>0.053172</td>\n",
        "      <td>-0.025244</td>\n",
        "      <td>-0.018557</td>\n",
        "      <td>-0.017523</td>\n",
        "      <td>-0.027270</td>\n",
        "    </tr>\n",
        "    <tr>\n",
        "      <th>group-2</th>\n",
        "      <td>0.001506</td>\n",
        "      <td>-0.003863</td>\n",
        "      <td>-0.055084</td>\n",
        "      <td>-0.003307</td>\n",
        "      <td>-0.031401</td>\n",
        "      <td>0.180300</td>\n",
        "      <td>-0.014928</td>\n",
        "      <td>-0.020460</td>\n",
        "      <td>-0.038032</td>\n",
        "      <td>-0.015259</td>\n",
        "    </tr>\n",
        "  </tbody>\n",
        "</table>\n",
        "</div>"
       ],
       "metadata": {},
       "output_type": "pyout",
       "prompt_number": 12,
       "text": [
        "                       O1        O2        Oz        Cz        C3        C4  \\\n",
        "feature group                                                                 \n",
        "Y1      group-1  0.030429 -0.032116  0.020573 -0.056354 -0.039607 -0.054090   \n",
        "        group-2  0.029352 -0.008531 -0.010835  0.006600 -0.024270 -0.002564   \n",
        "Y2      group-1  0.054466 -0.029206 -0.051280 -0.086210  0.023772  0.025277   \n",
        "        group-2  0.010589 -0.035916 -0.024660  0.041625  0.011879 -0.029978   \n",
        "Y3      group-1  0.009508  0.053561  0.010303  0.028418  0.050829  0.198710   \n",
        "        group-2  0.011022  0.010512 -0.011150  0.034502 -0.079794  0.123358   \n",
        "Y4      group-1  0.053724 -0.019878 -0.009335  0.081867 -0.028708 -0.084002   \n",
        "        group-2 -0.028874  0.022413 -0.018940  0.032732  0.016544 -0.156911   \n",
        "Y5      group-1  0.047057 -0.022849 -0.022346 -0.015762 -0.004072  0.053172   \n",
        "        group-2  0.001506 -0.003863 -0.055084 -0.003307 -0.031401  0.180300   \n",
        "\n",
        "                       Fz        F8        F7       Fpz  \n",
        "feature group                                            \n",
        "Y1      group-1 -0.009287  0.020543 -0.023351  0.022115  \n",
        "        group-2  0.005140 -0.011245  0.001667 -0.039262  \n",
        "Y2      group-1  0.033318  0.047421  0.051367 -0.018493  \n",
        "        group-2 -0.000338  0.054774 -0.045764 -0.015272  \n",
        "Y3      group-1 -0.004988  0.019686  0.004071 -0.025451  \n",
        "        group-2 -0.037907  0.063274  0.012235 -0.014260  \n",
        "Y4      group-1 -0.012750  0.057803  0.001695  0.051312  \n",
        "        group-2 -0.063961  0.002701 -0.003191  0.028085  \n",
        "Y5      group-1 -0.025244 -0.018557 -0.017523 -0.027270  \n",
        "        group-2 -0.014928 -0.020460 -0.038032 -0.015259  "
       ]
      }
     ],
     "prompt_number": 12
    },
    {
     "cell_type": "code",
     "collapsed": false,
     "input": [
      "g1 = 'group-1'\n",
      "g2 = 'group-2'\n",
      "time_common = 'T1'\n",
      "\n",
      "print('               {}'.format('       '.join(electrodes)))\n",
      "for feat_i in features:\n",
      "    print('Feature',feat_i,end='   ')\n",
      "    for elec_i in electrodes:\n",
      "        X1 = data.ix[np.all((data.group==g1,data.time==time_common,data.feature==feat_i),axis=0),\n",
      "                     elec_i]\n",
      "        X2 = data.ix[np.all((data.group==g2,data.time==time_common,data.feature==feat_i),axis=0),\n",
      "                     elec_i]\n",
      "        pvalue,original_diff,all_diffs = permutation_test(X1,X2,10000)\n",
      "        print('{:1.3f}{}'.format(pvalue,'[*]' if pvalue < 0.05 else '   '),end=' ')\n",
      "    print()\n"
     ],
     "language": "python",
     "metadata": {},
     "outputs": [
      {
       "output_type": "stream",
       "stream": "stdout",
       "text": [
        "               O1       O2       Oz       Cz       C3       C4       Fz       F8       F7       Fpz\n",
        "Feature Y1   0.979   "
       ]
      },
      {
       "output_type": "stream",
       "stream": "stdout",
       "text": [
        " 0.618   "
       ]
      },
      {
       "output_type": "stream",
       "stream": "stdout",
       "text": [
        " 0.494   "
       ]
      },
      {
       "output_type": "stream",
       "stream": "stdout",
       "text": [
        " 0.206   "
       ]
      },
      {
       "output_type": "stream",
       "stream": "stdout",
       "text": [
        " 0.753   "
       ]
      },
      {
       "output_type": "stream",
       "stream": "stdout",
       "text": [
        " 0.299   "
       ]
      },
      {
       "output_type": "stream",
       "stream": "stdout",
       "text": [
        " 0.731   "
       ]
      },
      {
       "output_type": "stream",
       "stream": "stdout",
       "text": [
        " 0.433   "
       ]
      },
      {
       "output_type": "stream",
       "stream": "stdout",
       "text": [
        " 0.577   "
       ]
      },
      {
       "output_type": "stream",
       "stream": "stdout",
       "text": [
        " 0.200   "
       ]
      },
      {
       "output_type": "stream",
       "stream": "stdout",
       "text": [
        " \n",
        "Feature Y2   0.328   "
       ]
      },
      {
       "output_type": "stream",
       "stream": "stdout",
       "text": [
        " 0.898   "
       ]
      },
      {
       "output_type": "stream",
       "stream": "stdout",
       "text": [
        " 0.487   "
       ]
      },
      {
       "output_type": "stream",
       "stream": "stdout",
       "text": [
        " 0.008[*]"
       ]
      },
      {
       "output_type": "stream",
       "stream": "stdout",
       "text": [
        " 0.712   "
       ]
      },
      {
       "output_type": "stream",
       "stream": "stdout",
       "text": [
        " 0.102   "
       ]
      },
      {
       "output_type": "stream",
       "stream": "stdout",
       "text": [
        " 0.303   "
       ]
      },
      {
       "output_type": "stream",
       "stream": "stdout",
       "text": [
        " 0.879   "
       ]
      },
      {
       "output_type": "stream",
       "stream": "stdout",
       "text": [
        " 0.075   "
       ]
      },
      {
       "output_type": "stream",
       "stream": "stdout",
       "text": [
        " 0.919   "
       ]
      },
      {
       "output_type": "stream",
       "stream": "stdout",
       "text": [
        " \n",
        "Feature Y3   0.969   "
       ]
      },
      {
       "output_type": "stream",
       "stream": "stdout",
       "text": [
        " 0.358   "
       ]
      },
      {
       "output_type": "stream",
       "stream": "stdout",
       "text": [
        " 0.555   "
       ]
      },
      {
       "output_type": "stream",
       "stream": "stdout",
       "text": [
        " 0.905   "
       ]
      },
      {
       "output_type": "stream",
       "stream": "stdout",
       "text": [
        " 0.003[*]"
       ]
      },
      {
       "output_type": "stream",
       "stream": "stdout",
       "text": [
        " 0.715   "
       ]
      },
      {
       "output_type": "stream",
       "stream": "stdout",
       "text": [
        " 0.516   "
       ]
      },
      {
       "output_type": "stream",
       "stream": "stdout",
       "text": [
        " 0.254   "
       ]
      },
      {
       "output_type": "stream",
       "stream": "stdout",
       "text": [
        " 0.861   "
       ]
      },
      {
       "output_type": "stream",
       "stream": "stdout",
       "text": [
        " 0.800   "
       ]
      },
      {
       "output_type": "stream",
       "stream": "stdout",
       "text": [
        " \n",
        "Feature Y4   0.082   "
       ]
      },
      {
       "output_type": "stream",
       "stream": "stdout",
       "text": [
        " 0.261   "
       ]
      },
      {
       "output_type": "stream",
       "stream": "stdout",
       "text": [
        " 0.822   "
       ]
      },
      {
       "output_type": "stream",
       "stream": "stdout",
       "text": [
        " 0.286   "
       ]
      },
      {
       "output_type": "stream",
       "stream": "stdout",
       "text": [
        " 0.205   "
       ]
      },
      {
       "output_type": "stream",
       "stream": "stdout",
       "text": [
        " 0.764   "
       ]
      },
      {
       "output_type": "stream",
       "stream": "stdout",
       "text": [
        " 0.214   "
       ]
      },
      {
       "output_type": "stream",
       "stream": "stdout",
       "text": [
        " 0.186   "
       ]
      },
      {
       "output_type": "stream",
       "stream": "stdout",
       "text": [
        " 0.897   "
       ]
      },
      {
       "output_type": "stream",
       "stream": "stdout",
       "text": [
        " 0.596   "
       ]
      },
      {
       "output_type": "stream",
       "stream": "stdout",
       "text": [
        " \n",
        "Feature Y5   0.317   "
       ]
      },
      {
       "output_type": "stream",
       "stream": "stdout",
       "text": [
        " 0.612   "
       ]
      },
      {
       "output_type": "stream",
       "stream": "stdout",
       "text": [
        " 0.294   "
       ]
      },
      {
       "output_type": "stream",
       "stream": "stdout",
       "text": [
        " 0.834   "
       ]
      },
      {
       "output_type": "stream",
       "stream": "stdout",
       "text": [
        " 0.460   "
       ]
      },
      {
       "output_type": "stream",
       "stream": "stdout",
       "text": [
        " 0.573   "
       ]
      },
      {
       "output_type": "stream",
       "stream": "stdout",
       "text": [
        " 0.799   "
       ]
      },
      {
       "output_type": "stream",
       "stream": "stdout",
       "text": [
        " 0.961   "
       ]
      },
      {
       "output_type": "stream",
       "stream": "stdout",
       "text": [
        " 0.617   "
       ]
      },
      {
       "output_type": "stream",
       "stream": "stdout",
       "text": [
        " 0.753   "
       ]
      },
      {
       "output_type": "stream",
       "stream": "stdout",
       "text": [
        " \n"
       ]
      }
     ],
     "prompt_number": 5
    },
    {
     "cell_type": "markdown",
     "metadata": {},
     "source": [
      "Is there an effect for time=T2?"
     ]
    },
    {
     "cell_type": "code",
     "collapsed": false,
     "input": [
      "data[data.time=='T2'].groupby(['feature','group']).mean()"
     ],
     "language": "python",
     "metadata": {},
     "outputs": [
      {
       "html": [
        "<div style=\"max-width:1500px;overflow:auto;\">\n",
        "<table border=\"1\" class=\"dataframe\">\n",
        "  <thead>\n",
        "    <tr style=\"text-align: right;\">\n",
        "      <th></th>\n",
        "      <th></th>\n",
        "      <th>O1</th>\n",
        "      <th>O2</th>\n",
        "      <th>Oz</th>\n",
        "      <th>Cz</th>\n",
        "      <th>C3</th>\n",
        "      <th>C4</th>\n",
        "      <th>Fz</th>\n",
        "      <th>F8</th>\n",
        "      <th>F7</th>\n",
        "      <th>Fpz</th>\n",
        "    </tr>\n",
        "    <tr>\n",
        "      <th>feature</th>\n",
        "      <th>group</th>\n",
        "      <th></th>\n",
        "      <th></th>\n",
        "      <th></th>\n",
        "      <th></th>\n",
        "      <th></th>\n",
        "      <th></th>\n",
        "      <th></th>\n",
        "      <th></th>\n",
        "      <th></th>\n",
        "      <th></th>\n",
        "    </tr>\n",
        "  </thead>\n",
        "  <tbody>\n",
        "    <tr>\n",
        "      <th rowspan=\"2\" valign=\"top\">Y1</th>\n",
        "      <th>group-1</th>\n",
        "      <td>-0.038320</td>\n",
        "      <td>-0.011499</td>\n",
        "      <td>-0.016941</td>\n",
        "      <td>-0.038875</td>\n",
        "      <td>0.032398</td>\n",
        "      <td>-0.007115</td>\n",
        "      <td>-0.005888</td>\n",
        "      <td>-0.009435</td>\n",
        "      <td>-0.013278</td>\n",
        "      <td>0.020094</td>\n",
        "    </tr>\n",
        "    <tr>\n",
        "      <th>group-2</th>\n",
        "      <td>0.023338</td>\n",
        "      <td>0.029416</td>\n",
        "      <td>0.013376</td>\n",
        "      <td>-0.009141</td>\n",
        "      <td>0.011445</td>\n",
        "      <td>-0.014437</td>\n",
        "      <td>-0.013572</td>\n",
        "      <td>-0.024958</td>\n",
        "      <td>-0.020589</td>\n",
        "      <td>0.064637</td>\n",
        "    </tr>\n",
        "    <tr>\n",
        "      <th rowspan=\"2\" valign=\"top\">Y2</th>\n",
        "      <th>group-1</th>\n",
        "      <td>0.026412</td>\n",
        "      <td>-0.004157</td>\n",
        "      <td>-0.042922</td>\n",
        "      <td>0.030197</td>\n",
        "      <td>0.013800</td>\n",
        "      <td>-0.019966</td>\n",
        "      <td>-0.030035</td>\n",
        "      <td>0.008394</td>\n",
        "      <td>0.005961</td>\n",
        "      <td>0.028579</td>\n",
        "    </tr>\n",
        "    <tr>\n",
        "      <th>group-2</th>\n",
        "      <td>0.000992</td>\n",
        "      <td>0.022372</td>\n",
        "      <td>-0.027174</td>\n",
        "      <td>0.021922</td>\n",
        "      <td>0.059285</td>\n",
        "      <td>0.045564</td>\n",
        "      <td>0.014912</td>\n",
        "      <td>0.000639</td>\n",
        "      <td>0.021485</td>\n",
        "      <td>0.020359</td>\n",
        "    </tr>\n",
        "    <tr>\n",
        "      <th rowspan=\"2\" valign=\"top\">Y3</th>\n",
        "      <th>group-1</th>\n",
        "      <td>0.022580</td>\n",
        "      <td>-0.049922</td>\n",
        "      <td>-0.055910</td>\n",
        "      <td>-0.001714</td>\n",
        "      <td>-0.026220</td>\n",
        "      <td>0.645394</td>\n",
        "      <td>-0.037404</td>\n",
        "      <td>-0.024354</td>\n",
        "      <td>0.085158</td>\n",
        "      <td>0.017971</td>\n",
        "    </tr>\n",
        "    <tr>\n",
        "      <th>group-2</th>\n",
        "      <td>0.031086</td>\n",
        "      <td>-0.047715</td>\n",
        "      <td>-0.045813</td>\n",
        "      <td>-0.024921</td>\n",
        "      <td>-0.011028</td>\n",
        "      <td>0.232549</td>\n",
        "      <td>-0.058789</td>\n",
        "      <td>-0.022955</td>\n",
        "      <td>-0.000919</td>\n",
        "      <td>-0.002038</td>\n",
        "    </tr>\n",
        "    <tr>\n",
        "      <th rowspan=\"2\" valign=\"top\">Y4</th>\n",
        "      <th>group-1</th>\n",
        "      <td>-0.057445</td>\n",
        "      <td>-0.037567</td>\n",
        "      <td>0.014080</td>\n",
        "      <td>0.039969</td>\n",
        "      <td>0.034346</td>\n",
        "      <td>0.213451</td>\n",
        "      <td>0.027224</td>\n",
        "      <td>-0.029990</td>\n",
        "      <td>-0.050631</td>\n",
        "      <td>0.005158</td>\n",
        "    </tr>\n",
        "    <tr>\n",
        "      <th>group-2</th>\n",
        "      <td>-0.009662</td>\n",
        "      <td>0.048951</td>\n",
        "      <td>-0.006630</td>\n",
        "      <td>0.029225</td>\n",
        "      <td>0.007966</td>\n",
        "      <td>0.042997</td>\n",
        "      <td>0.004571</td>\n",
        "      <td>0.019351</td>\n",
        "      <td>0.041176</td>\n",
        "      <td>0.023909</td>\n",
        "    </tr>\n",
        "    <tr>\n",
        "      <th rowspan=\"2\" valign=\"top\">Y5</th>\n",
        "      <th>group-1</th>\n",
        "      <td>-0.017597</td>\n",
        "      <td>-0.045932</td>\n",
        "      <td>0.011627</td>\n",
        "      <td>0.002983</td>\n",
        "      <td>0.061316</td>\n",
        "      <td>0.350169</td>\n",
        "      <td>0.016843</td>\n",
        "      <td>0.051325</td>\n",
        "      <td>-0.002740</td>\n",
        "      <td>-0.003998</td>\n",
        "    </tr>\n",
        "    <tr>\n",
        "      <th>group-2</th>\n",
        "      <td>0.012529</td>\n",
        "      <td>-0.011395</td>\n",
        "      <td>0.060045</td>\n",
        "      <td>0.015672</td>\n",
        "      <td>0.000307</td>\n",
        "      <td>-0.100786</td>\n",
        "      <td>0.029475</td>\n",
        "      <td>0.007326</td>\n",
        "      <td>0.067762</td>\n",
        "      <td>0.014280</td>\n",
        "    </tr>\n",
        "  </tbody>\n",
        "</table>\n",
        "</div>"
       ],
       "metadata": {},
       "output_type": "pyout",
       "prompt_number": 13,
       "text": [
        "                       O1        O2        Oz        Cz        C3        C4  \\\n",
        "feature group                                                                 \n",
        "Y1      group-1 -0.038320 -0.011499 -0.016941 -0.038875  0.032398 -0.007115   \n",
        "        group-2  0.023338  0.029416  0.013376 -0.009141  0.011445 -0.014437   \n",
        "Y2      group-1  0.026412 -0.004157 -0.042922  0.030197  0.013800 -0.019966   \n",
        "        group-2  0.000992  0.022372 -0.027174  0.021922  0.059285  0.045564   \n",
        "Y3      group-1  0.022580 -0.049922 -0.055910 -0.001714 -0.026220  0.645394   \n",
        "        group-2  0.031086 -0.047715 -0.045813 -0.024921 -0.011028  0.232549   \n",
        "Y4      group-1 -0.057445 -0.037567  0.014080  0.039969  0.034346  0.213451   \n",
        "        group-2 -0.009662  0.048951 -0.006630  0.029225  0.007966  0.042997   \n",
        "Y5      group-1 -0.017597 -0.045932  0.011627  0.002983  0.061316  0.350169   \n",
        "        group-2  0.012529 -0.011395  0.060045  0.015672  0.000307 -0.100786   \n",
        "\n",
        "                       Fz        F8        F7       Fpz  \n",
        "feature group                                            \n",
        "Y1      group-1 -0.005888 -0.009435 -0.013278  0.020094  \n",
        "        group-2 -0.013572 -0.024958 -0.020589  0.064637  \n",
        "Y2      group-1 -0.030035  0.008394  0.005961  0.028579  \n",
        "        group-2  0.014912  0.000639  0.021485  0.020359  \n",
        "Y3      group-1 -0.037404 -0.024354  0.085158  0.017971  \n",
        "        group-2 -0.058789 -0.022955 -0.000919 -0.002038  \n",
        "Y4      group-1  0.027224 -0.029990 -0.050631  0.005158  \n",
        "        group-2  0.004571  0.019351  0.041176  0.023909  \n",
        "Y5      group-1  0.016843  0.051325 -0.002740 -0.003998  \n",
        "        group-2  0.029475  0.007326  0.067762  0.014280  "
       ]
      }
     ],
     "prompt_number": 13
    },
    {
     "cell_type": "code",
     "collapsed": false,
     "input": [
      "time_common = 'T2'\n",
      "\n",
      "print('               {}'.format('       '.join(electrodes)))\n",
      "for feat_i in features:\n",
      "    print('Feature',feat_i,end='   ')\n",
      "    for elec_i in electrodes:\n",
      "        X1 = data.ix[np.all((data.group==g1,data.time==time_common,data.feature==feat_i),axis=0),\n",
      "                     elec_i]\n",
      "        X2 = data.ix[np.all((data.group==g2,data.time==time_common,data.feature==feat_i),axis=0),\n",
      "                     elec_i]\n",
      "        pvalue,original_diff,all_diffs = permutation_test(X1,X2,10000)\n",
      "        print('{:1.3f}{}'.format(pvalue,'[*]' if pvalue < 0.05 else '   '),end=' ')\n",
      "    print()"
     ],
     "language": "python",
     "metadata": {},
     "outputs": [
      {
       "output_type": "stream",
       "stream": "stdout",
       "text": [
        "               O1       O2       Oz       Cz       C3       C4       Fz       F8       F7       Fpz\n",
        "Feature Y1   0.173   "
       ]
      },
      {
       "output_type": "stream",
       "stream": "stdout",
       "text": [
        " 0.372   "
       ]
      },
      {
       "output_type": "stream",
       "stream": "stdout",
       "text": [
        " 0.248   "
       ]
      },
      {
       "output_type": "stream",
       "stream": "stdout",
       "text": [
        " 0.522   "
       ]
      },
      {
       "output_type": "stream",
       "stream": "stdout",
       "text": [
        " 0.566   "
       ]
      },
      {
       "output_type": "stream",
       "stream": "stdout",
       "text": [
        " 0.842   "
       ]
      },
      {
       "output_type": "stream",
       "stream": "stdout",
       "text": [
        " 0.852   "
       ]
      },
      {
       "output_type": "stream",
       "stream": "stdout",
       "text": [
        " 0.738   "
       ]
      },
      {
       "output_type": "stream",
       "stream": "stdout",
       "text": [
        " 0.867   "
       ]
      },
      {
       "output_type": "stream",
       "stream": "stdout",
       "text": [
        " 0.395   "
       ]
      },
      {
       "output_type": "stream",
       "stream": "stdout",
       "text": [
        " \n",
        "Feature Y2   0.458   "
       ]
      },
      {
       "output_type": "stream",
       "stream": "stdout",
       "text": [
        " 0.600   "
       ]
      },
      {
       "output_type": "stream",
       "stream": "stdout",
       "text": [
        " 0.663   "
       ]
      },
      {
       "output_type": "stream",
       "stream": "stdout",
       "text": [
        " 0.821   "
       ]
      },
      {
       "output_type": "stream",
       "stream": "stdout",
       "text": [
        " 0.213   "
       ]
      },
      {
       "output_type": "stream",
       "stream": "stdout",
       "text": [
        " 0.024[*]"
       ]
      },
      {
       "output_type": "stream",
       "stream": "stdout",
       "text": [
        " 0.262   "
       ]
      },
      {
       "output_type": "stream",
       "stream": "stdout",
       "text": [
        " 0.872   "
       ]
      },
      {
       "output_type": "stream",
       "stream": "stdout",
       "text": [
        " 0.685   "
       ]
      },
      {
       "output_type": "stream",
       "stream": "stdout",
       "text": [
        " 0.821   "
       ]
      },
      {
       "output_type": "stream",
       "stream": "stdout",
       "text": [
        " \n",
        "Feature Y3   0.820   "
       ]
      },
      {
       "output_type": "stream",
       "stream": "stdout",
       "text": [
        " 0.961   "
       ]
      },
      {
       "output_type": "stream",
       "stream": "stdout",
       "text": [
        " 0.845   "
       ]
      },
      {
       "output_type": "stream",
       "stream": "stdout",
       "text": [
        " 0.417   "
       ]
      },
      {
       "output_type": "stream",
       "stream": "stdout",
       "text": [
        " 0.757   "
       ]
      },
      {
       "output_type": "stream",
       "stream": "stdout",
       "text": [
        " 0.073   "
       ]
      },
      {
       "output_type": "stream",
       "stream": "stdout",
       "text": [
        " 0.703   "
       ]
      },
      {
       "output_type": "stream",
       "stream": "stdout",
       "text": [
        " 0.976   "
       ]
      },
      {
       "output_type": "stream",
       "stream": "stdout",
       "text": [
        " 0.069   "
       ]
      },
      {
       "output_type": "stream",
       "stream": "stdout",
       "text": [
        " 0.678   "
       ]
      },
      {
       "output_type": "stream",
       "stream": "stdout",
       "text": [
        " \n",
        "Feature Y4   0.395   "
       ]
      },
      {
       "output_type": "stream",
       "stream": "stdout",
       "text": [
        " 0.066   "
       ]
      },
      {
       "output_type": "stream",
       "stream": "stdout",
       "text": [
        " 0.585   "
       ]
      },
      {
       "output_type": "stream",
       "stream": "stdout",
       "text": [
        " 0.869   "
       ]
      },
      {
       "output_type": "stream",
       "stream": "stdout",
       "text": [
        " 0.447   "
       ]
      },
      {
       "output_type": "stream",
       "stream": "stdout",
       "text": [
        " 0.552   "
       ]
      },
      {
       "output_type": "stream",
       "stream": "stdout",
       "text": [
        " 0.433   "
       ]
      },
      {
       "output_type": "stream",
       "stream": "stdout",
       "text": [
        " 0.123   "
       ]
      },
      {
       "output_type": "stream",
       "stream": "stdout",
       "text": [
        " 0.043[*]"
       ]
      },
      {
       "output_type": "stream",
       "stream": "stdout",
       "text": [
        " 0.690   "
       ]
      },
      {
       "output_type": "stream",
       "stream": "stdout",
       "text": [
        " \n",
        "Feature Y5   0.509   "
       ]
      },
      {
       "output_type": "stream",
       "stream": "stdout",
       "text": [
        " 0.451   "
       ]
      },
      {
       "output_type": "stream",
       "stream": "stdout",
       "text": [
        " 0.270   "
       ]
      },
      {
       "output_type": "stream",
       "stream": "stdout",
       "text": [
        " 0.788   "
       ]
      },
      {
       "output_type": "stream",
       "stream": "stdout",
       "text": [
        " 0.144   "
       ]
      },
      {
       "output_type": "stream",
       "stream": "stdout",
       "text": [
        " 0.070   "
       ]
      },
      {
       "output_type": "stream",
       "stream": "stdout",
       "text": [
        " 0.768   "
       ]
      },
      {
       "output_type": "stream",
       "stream": "stdout",
       "text": [
        " 0.230   "
       ]
      },
      {
       "output_type": "stream",
       "stream": "stdout",
       "text": [
        " 0.077   "
       ]
      },
      {
       "output_type": "stream",
       "stream": "stdout",
       "text": [
        " 0.667   "
       ]
      },
      {
       "output_type": "stream",
       "stream": "stdout",
       "text": [
        " \n"
       ]
      }
     ],
     "prompt_number": 6
    },
    {
     "cell_type": "heading",
     "level": 1,
     "metadata": {},
     "source": [
      "Effect of time"
     ]
    },
    {
     "cell_type": "code",
     "collapsed": false,
     "input": [
      "data.groupby(['feature','time']).mean()"
     ],
     "language": "python",
     "metadata": {},
     "outputs": [
      {
       "html": [
        "<div style=\"max-width:1500px;overflow:auto;\">\n",
        "<table border=\"1\" class=\"dataframe\">\n",
        "  <thead>\n",
        "    <tr style=\"text-align: right;\">\n",
        "      <th></th>\n",
        "      <th></th>\n",
        "      <th>O1</th>\n",
        "      <th>O2</th>\n",
        "      <th>Oz</th>\n",
        "      <th>Cz</th>\n",
        "      <th>C3</th>\n",
        "      <th>C4</th>\n",
        "      <th>Fz</th>\n",
        "      <th>F8</th>\n",
        "      <th>F7</th>\n",
        "      <th>Fpz</th>\n",
        "    </tr>\n",
        "    <tr>\n",
        "      <th>feature</th>\n",
        "      <th>time</th>\n",
        "      <th></th>\n",
        "      <th></th>\n",
        "      <th></th>\n",
        "      <th></th>\n",
        "      <th></th>\n",
        "      <th></th>\n",
        "      <th></th>\n",
        "      <th></th>\n",
        "      <th></th>\n",
        "      <th></th>\n",
        "    </tr>\n",
        "  </thead>\n",
        "  <tbody>\n",
        "    <tr>\n",
        "      <th rowspan=\"2\" valign=\"top\">Y1</th>\n",
        "      <th>T1</th>\n",
        "      <td>0.029842</td>\n",
        "      <td>-0.019251</td>\n",
        "      <td>0.003441</td>\n",
        "      <td>-0.022015</td>\n",
        "      <td>-0.031241</td>\n",
        "      <td>-0.025985</td>\n",
        "      <td>-0.001418</td>\n",
        "      <td>0.003204</td>\n",
        "      <td>-0.009705</td>\n",
        "      <td>-0.011363</td>\n",
        "    </tr>\n",
        "    <tr>\n",
        "      <th>T2</th>\n",
        "      <td>-0.004689</td>\n",
        "      <td>0.010819</td>\n",
        "      <td>-0.000405</td>\n",
        "      <td>-0.022656</td>\n",
        "      <td>0.020969</td>\n",
        "      <td>-0.011109</td>\n",
        "      <td>-0.010079</td>\n",
        "      <td>-0.017902</td>\n",
        "      <td>-0.017266</td>\n",
        "      <td>0.044390</td>\n",
        "    </tr>\n",
        "    <tr>\n",
        "      <th rowspan=\"2\" valign=\"top\">Y2</th>\n",
        "      <th>T1</th>\n",
        "      <td>0.030533</td>\n",
        "      <td>-0.032866</td>\n",
        "      <td>-0.036760</td>\n",
        "      <td>-0.016482</td>\n",
        "      <td>0.017285</td>\n",
        "      <td>-0.004862</td>\n",
        "      <td>0.014960</td>\n",
        "      <td>0.051432</td>\n",
        "      <td>-0.001614</td>\n",
        "      <td>-0.016736</td>\n",
        "    </tr>\n",
        "    <tr>\n",
        "      <th>T2</th>\n",
        "      <td>0.012546</td>\n",
        "      <td>0.010313</td>\n",
        "      <td>-0.034332</td>\n",
        "      <td>0.025683</td>\n",
        "      <td>0.038610</td>\n",
        "      <td>0.015778</td>\n",
        "      <td>-0.005518</td>\n",
        "      <td>0.004164</td>\n",
        "      <td>0.014428</td>\n",
        "      <td>0.024095</td>\n",
        "    </tr>\n",
        "    <tr>\n",
        "      <th rowspan=\"2\" valign=\"top\">Y3</th>\n",
        "      <th>T1</th>\n",
        "      <td>0.010334</td>\n",
        "      <td>0.030080</td>\n",
        "      <td>-0.001399</td>\n",
        "      <td>0.031736</td>\n",
        "      <td>-0.020420</td>\n",
        "      <td>0.157609</td>\n",
        "      <td>-0.022944</td>\n",
        "      <td>0.043461</td>\n",
        "      <td>0.008524</td>\n",
        "      <td>-0.019347</td>\n",
        "    </tr>\n",
        "    <tr>\n",
        "      <th>T2</th>\n",
        "      <td>0.027220</td>\n",
        "      <td>-0.048718</td>\n",
        "      <td>-0.050403</td>\n",
        "      <td>-0.014373</td>\n",
        "      <td>-0.017934</td>\n",
        "      <td>0.420206</td>\n",
        "      <td>-0.049069</td>\n",
        "      <td>-0.023591</td>\n",
        "      <td>0.038207</td>\n",
        "      <td>0.007057</td>\n",
        "    </tr>\n",
        "    <tr>\n",
        "      <th rowspan=\"2\" valign=\"top\">Y4</th>\n",
        "      <th>T1</th>\n",
        "      <td>0.008670</td>\n",
        "      <td>0.003190</td>\n",
        "      <td>-0.014574</td>\n",
        "      <td>0.055066</td>\n",
        "      <td>-0.004025</td>\n",
        "      <td>-0.123771</td>\n",
        "      <td>-0.040683</td>\n",
        "      <td>0.027747</td>\n",
        "      <td>-0.000970</td>\n",
        "      <td>0.038643</td>\n",
        "    </tr>\n",
        "    <tr>\n",
        "      <th>T2</th>\n",
        "      <td>-0.031382</td>\n",
        "      <td>0.009625</td>\n",
        "      <td>0.002784</td>\n",
        "      <td>0.034108</td>\n",
        "      <td>0.019957</td>\n",
        "      <td>0.120476</td>\n",
        "      <td>0.014868</td>\n",
        "      <td>-0.003076</td>\n",
        "      <td>-0.000555</td>\n",
        "      <td>0.015386</td>\n",
        "    </tr>\n",
        "    <tr>\n",
        "      <th rowspan=\"2\" valign=\"top\">Y5</th>\n",
        "      <th>T1</th>\n",
        "      <td>0.022211</td>\n",
        "      <td>-0.012493</td>\n",
        "      <td>-0.040203</td>\n",
        "      <td>-0.008968</td>\n",
        "      <td>-0.018979</td>\n",
        "      <td>0.122515</td>\n",
        "      <td>-0.019617</td>\n",
        "      <td>-0.019595</td>\n",
        "      <td>-0.028710</td>\n",
        "      <td>-0.020719</td>\n",
        "    </tr>\n",
        "    <tr>\n",
        "      <th>T2</th>\n",
        "      <td>-0.001165</td>\n",
        "      <td>-0.027094</td>\n",
        "      <td>0.038036</td>\n",
        "      <td>0.009904</td>\n",
        "      <td>0.028038</td>\n",
        "      <td>0.104194</td>\n",
        "      <td>0.023733</td>\n",
        "      <td>0.027325</td>\n",
        "      <td>0.035716</td>\n",
        "      <td>0.005972</td>\n",
        "    </tr>\n",
        "  </tbody>\n",
        "</table>\n",
        "</div>"
       ],
       "metadata": {},
       "output_type": "pyout",
       "prompt_number": 14,
       "text": [
        "                    O1        O2        Oz        Cz        C3        C4  \\\n",
        "feature time                                                               \n",
        "Y1      T1    0.029842 -0.019251  0.003441 -0.022015 -0.031241 -0.025985   \n",
        "        T2   -0.004689  0.010819 -0.000405 -0.022656  0.020969 -0.011109   \n",
        "Y2      T1    0.030533 -0.032866 -0.036760 -0.016482  0.017285 -0.004862   \n",
        "        T2    0.012546  0.010313 -0.034332  0.025683  0.038610  0.015778   \n",
        "Y3      T1    0.010334  0.030080 -0.001399  0.031736 -0.020420  0.157609   \n",
        "        T2    0.027220 -0.048718 -0.050403 -0.014373 -0.017934  0.420206   \n",
        "Y4      T1    0.008670  0.003190 -0.014574  0.055066 -0.004025 -0.123771   \n",
        "        T2   -0.031382  0.009625  0.002784  0.034108  0.019957  0.120476   \n",
        "Y5      T1    0.022211 -0.012493 -0.040203 -0.008968 -0.018979  0.122515   \n",
        "        T2   -0.001165 -0.027094  0.038036  0.009904  0.028038  0.104194   \n",
        "\n",
        "                    Fz        F8        F7       Fpz  \n",
        "feature time                                          \n",
        "Y1      T1   -0.001418  0.003204 -0.009705 -0.011363  \n",
        "        T2   -0.010079 -0.017902 -0.017266  0.044390  \n",
        "Y2      T1    0.014960  0.051432 -0.001614 -0.016736  \n",
        "        T2   -0.005518  0.004164  0.014428  0.024095  \n",
        "Y3      T1   -0.022944  0.043461  0.008524 -0.019347  \n",
        "        T2   -0.049069 -0.023591  0.038207  0.007057  \n",
        "Y4      T1   -0.040683  0.027747 -0.000970  0.038643  \n",
        "        T2    0.014868 -0.003076 -0.000555  0.015386  \n",
        "Y5      T1   -0.019617 -0.019595 -0.028710 -0.020719  \n",
        "        T2    0.023733  0.027325  0.035716  0.005972  "
       ]
      }
     ],
     "prompt_number": 14
    },
    {
     "cell_type": "markdown",
     "metadata": {},
     "source": [
      "Is there an effect of time for group=group-1?"
     ]
    },
    {
     "cell_type": "code",
     "collapsed": false,
     "input": [
      "data[data.group=='group-1'].groupby(['feature','time']).mean()"
     ],
     "language": "python",
     "metadata": {},
     "outputs": [
      {
       "html": [
        "<div style=\"max-width:1500px;overflow:auto;\">\n",
        "<table border=\"1\" class=\"dataframe\">\n",
        "  <thead>\n",
        "    <tr style=\"text-align: right;\">\n",
        "      <th></th>\n",
        "      <th></th>\n",
        "      <th>O1</th>\n",
        "      <th>O2</th>\n",
        "      <th>Oz</th>\n",
        "      <th>Cz</th>\n",
        "      <th>C3</th>\n",
        "      <th>C4</th>\n",
        "      <th>Fz</th>\n",
        "      <th>F8</th>\n",
        "      <th>F7</th>\n",
        "      <th>Fpz</th>\n",
        "    </tr>\n",
        "    <tr>\n",
        "      <th>feature</th>\n",
        "      <th>time</th>\n",
        "      <th></th>\n",
        "      <th></th>\n",
        "      <th></th>\n",
        "      <th></th>\n",
        "      <th></th>\n",
        "      <th></th>\n",
        "      <th></th>\n",
        "      <th></th>\n",
        "      <th></th>\n",
        "      <th></th>\n",
        "    </tr>\n",
        "  </thead>\n",
        "  <tbody>\n",
        "    <tr>\n",
        "      <th rowspan=\"2\" valign=\"top\">Y1</th>\n",
        "      <th>T1</th>\n",
        "      <td>0.030429</td>\n",
        "      <td>-0.032116</td>\n",
        "      <td>0.020573</td>\n",
        "      <td>-0.056354</td>\n",
        "      <td>-0.039607</td>\n",
        "      <td>-0.054090</td>\n",
        "      <td>-0.009287</td>\n",
        "      <td>0.020543</td>\n",
        "      <td>-0.023351</td>\n",
        "      <td>0.022115</td>\n",
        "    </tr>\n",
        "    <tr>\n",
        "      <th>T2</th>\n",
        "      <td>-0.038320</td>\n",
        "      <td>-0.011499</td>\n",
        "      <td>-0.016941</td>\n",
        "      <td>-0.038875</td>\n",
        "      <td>0.032398</td>\n",
        "      <td>-0.007115</td>\n",
        "      <td>-0.005888</td>\n",
        "      <td>-0.009435</td>\n",
        "      <td>-0.013278</td>\n",
        "      <td>0.020094</td>\n",
        "    </tr>\n",
        "    <tr>\n",
        "      <th rowspan=\"2\" valign=\"top\">Y2</th>\n",
        "      <th>T1</th>\n",
        "      <td>0.054466</td>\n",
        "      <td>-0.029206</td>\n",
        "      <td>-0.051280</td>\n",
        "      <td>-0.086210</td>\n",
        "      <td>0.023772</td>\n",
        "      <td>0.025277</td>\n",
        "      <td>0.033318</td>\n",
        "      <td>0.047421</td>\n",
        "      <td>0.051367</td>\n",
        "      <td>-0.018493</td>\n",
        "    </tr>\n",
        "    <tr>\n",
        "      <th>T2</th>\n",
        "      <td>0.026412</td>\n",
        "      <td>-0.004157</td>\n",
        "      <td>-0.042922</td>\n",
        "      <td>0.030197</td>\n",
        "      <td>0.013800</td>\n",
        "      <td>-0.019966</td>\n",
        "      <td>-0.030035</td>\n",
        "      <td>0.008394</td>\n",
        "      <td>0.005961</td>\n",
        "      <td>0.028579</td>\n",
        "    </tr>\n",
        "    <tr>\n",
        "      <th rowspan=\"2\" valign=\"top\">Y3</th>\n",
        "      <th>T1</th>\n",
        "      <td>0.009508</td>\n",
        "      <td>0.053561</td>\n",
        "      <td>0.010303</td>\n",
        "      <td>0.028418</td>\n",
        "      <td>0.050829</td>\n",
        "      <td>0.198710</td>\n",
        "      <td>-0.004988</td>\n",
        "      <td>0.019686</td>\n",
        "      <td>0.004071</td>\n",
        "      <td>-0.025451</td>\n",
        "    </tr>\n",
        "    <tr>\n",
        "      <th>T2</th>\n",
        "      <td>0.022580</td>\n",
        "      <td>-0.049922</td>\n",
        "      <td>-0.055910</td>\n",
        "      <td>-0.001714</td>\n",
        "      <td>-0.026220</td>\n",
        "      <td>0.645394</td>\n",
        "      <td>-0.037404</td>\n",
        "      <td>-0.024354</td>\n",
        "      <td>0.085158</td>\n",
        "      <td>0.017971</td>\n",
        "    </tr>\n",
        "    <tr>\n",
        "      <th rowspan=\"2\" valign=\"top\">Y4</th>\n",
        "      <th>T1</th>\n",
        "      <td>0.053724</td>\n",
        "      <td>-0.019878</td>\n",
        "      <td>-0.009335</td>\n",
        "      <td>0.081867</td>\n",
        "      <td>-0.028708</td>\n",
        "      <td>-0.084002</td>\n",
        "      <td>-0.012750</td>\n",
        "      <td>0.057803</td>\n",
        "      <td>0.001695</td>\n",
        "      <td>0.051312</td>\n",
        "    </tr>\n",
        "    <tr>\n",
        "      <th>T2</th>\n",
        "      <td>-0.057445</td>\n",
        "      <td>-0.037567</td>\n",
        "      <td>0.014080</td>\n",
        "      <td>0.039969</td>\n",
        "      <td>0.034346</td>\n",
        "      <td>0.213451</td>\n",
        "      <td>0.027224</td>\n",
        "      <td>-0.029990</td>\n",
        "      <td>-0.050631</td>\n",
        "      <td>0.005158</td>\n",
        "    </tr>\n",
        "    <tr>\n",
        "      <th rowspan=\"2\" valign=\"top\">Y5</th>\n",
        "      <th>T1</th>\n",
        "      <td>0.047057</td>\n",
        "      <td>-0.022849</td>\n",
        "      <td>-0.022346</td>\n",
        "      <td>-0.015762</td>\n",
        "      <td>-0.004072</td>\n",
        "      <td>0.053172</td>\n",
        "      <td>-0.025244</td>\n",
        "      <td>-0.018557</td>\n",
        "      <td>-0.017523</td>\n",
        "      <td>-0.027270</td>\n",
        "    </tr>\n",
        "    <tr>\n",
        "      <th>T2</th>\n",
        "      <td>-0.017597</td>\n",
        "      <td>-0.045932</td>\n",
        "      <td>0.011627</td>\n",
        "      <td>0.002983</td>\n",
        "      <td>0.061316</td>\n",
        "      <td>0.350169</td>\n",
        "      <td>0.016843</td>\n",
        "      <td>0.051325</td>\n",
        "      <td>-0.002740</td>\n",
        "      <td>-0.003998</td>\n",
        "    </tr>\n",
        "  </tbody>\n",
        "</table>\n",
        "</div>"
       ],
       "metadata": {},
       "output_type": "pyout",
       "prompt_number": 15,
       "text": [
        "                    O1        O2        Oz        Cz        C3        C4  \\\n",
        "feature time                                                               \n",
        "Y1      T1    0.030429 -0.032116  0.020573 -0.056354 -0.039607 -0.054090   \n",
        "        T2   -0.038320 -0.011499 -0.016941 -0.038875  0.032398 -0.007115   \n",
        "Y2      T1    0.054466 -0.029206 -0.051280 -0.086210  0.023772  0.025277   \n",
        "        T2    0.026412 -0.004157 -0.042922  0.030197  0.013800 -0.019966   \n",
        "Y3      T1    0.009508  0.053561  0.010303  0.028418  0.050829  0.198710   \n",
        "        T2    0.022580 -0.049922 -0.055910 -0.001714 -0.026220  0.645394   \n",
        "Y4      T1    0.053724 -0.019878 -0.009335  0.081867 -0.028708 -0.084002   \n",
        "        T2   -0.057445 -0.037567  0.014080  0.039969  0.034346  0.213451   \n",
        "Y5      T1    0.047057 -0.022849 -0.022346 -0.015762 -0.004072  0.053172   \n",
        "        T2   -0.017597 -0.045932  0.011627  0.002983  0.061316  0.350169   \n",
        "\n",
        "                    Fz        F8        F7       Fpz  \n",
        "feature time                                          \n",
        "Y1      T1   -0.009287  0.020543 -0.023351  0.022115  \n",
        "        T2   -0.005888 -0.009435 -0.013278  0.020094  \n",
        "Y2      T1    0.033318  0.047421  0.051367 -0.018493  \n",
        "        T2   -0.030035  0.008394  0.005961  0.028579  \n",
        "Y3      T1   -0.004988  0.019686  0.004071 -0.025451  \n",
        "        T2   -0.037404 -0.024354  0.085158  0.017971  \n",
        "Y4      T1   -0.012750  0.057803  0.001695  0.051312  \n",
        "        T2    0.027224 -0.029990 -0.050631  0.005158  \n",
        "Y5      T1   -0.025244 -0.018557 -0.017523 -0.027270  \n",
        "        T2    0.016843  0.051325 -0.002740 -0.003998  "
       ]
      }
     ],
     "prompt_number": 15
    },
    {
     "cell_type": "code",
     "collapsed": false,
     "input": [
      "t1 = 'T1'\n",
      "t2 = 'T2'\n",
      "group_common = 'group-1'\n",
      "\n",
      "print('               {}'.format('       '.join(electrodes)))\n",
      "for feat_i in features:\n",
      "    print('Feature',feat_i,end='   ')\n",
      "    for elec_i in electrodes:\n",
      "        X1 = data.ix[np.all((data.group==group_common,data.time==t1,data.feature==feat_i),axis=0),\n",
      "                     elec_i]\n",
      "        X2 = data.ix[np.all((data.group==group_common,data.time==t2,data.feature==feat_i),axis=0),\n",
      "                     elec_i]\n",
      "        pvalue,original_diff,all_diffs = permutation_test(X1,X2,10000)\n",
      "        print('{:1.3f}{}'.format(pvalue,'[*]' if pvalue < 0.05 else '   '),end=' ')\n",
      "    print()"
     ],
     "language": "python",
     "metadata": {},
     "outputs": [
      {
       "output_type": "stream",
       "stream": "stdout",
       "text": [
        "               O1       O2       Oz       Cz       C3       C4       Fz       F8       F7       Fpz\n",
        "Feature Y1   0.164   "
       ]
      },
      {
       "output_type": "stream",
       "stream": "stdout",
       "text": [
        " 0.710   "
       ]
      },
      {
       "output_type": "stream",
       "stream": "stdout",
       "text": [
        " 0.346   "
       ]
      },
      {
       "output_type": "stream",
       "stream": "stdout",
       "text": [
        " 0.728   "
       ]
      },
      {
       "output_type": "stream",
       "stream": "stdout",
       "text": [
        " 0.165   "
       ]
      },
      {
       "output_type": "stream",
       "stream": "stdout",
       "text": [
        " 0.365   "
       ]
      },
      {
       "output_type": "stream",
       "stream": "stdout",
       "text": [
        " 0.934   "
       ]
      },
      {
       "output_type": "stream",
       "stream": "stdout",
       "text": [
        " 0.553   "
       ]
      },
      {
       "output_type": "stream",
       "stream": "stdout",
       "text": [
        " 0.835   "
       ]
      },
      {
       "output_type": "stream",
       "stream": "stdout",
       "text": [
        " 0.970   "
       ]
      },
      {
       "output_type": "stream",
       "stream": "stdout",
       "text": [
        " \n",
        "Feature Y2   0.544   "
       ]
      },
      {
       "output_type": "stream",
       "stream": "stdout",
       "text": [
        " 0.600   "
       ]
      },
      {
       "output_type": "stream",
       "stream": "stdout",
       "text": [
        " 0.807   "
       ]
      },
      {
       "output_type": "stream",
       "stream": "stdout",
       "text": [
        " 0.003[*]"
       ]
      },
      {
       "output_type": "stream",
       "stream": "stdout",
       "text": [
        " 0.732   "
       ]
      },
      {
       "output_type": "stream",
       "stream": "stdout",
       "text": [
        " 0.198   "
       ]
      },
      {
       "output_type": "stream",
       "stream": "stdout",
       "text": [
        " 0.106   "
       ]
      },
      {
       "output_type": "stream",
       "stream": "stdout",
       "text": [
        " 0.392   "
       ]
      },
      {
       "output_type": "stream",
       "stream": "stdout",
       "text": [
        " 0.310   "
       ]
      },
      {
       "output_type": "stream",
       "stream": "stdout",
       "text": [
        " 0.183   "
       ]
      },
      {
       "output_type": "stream",
       "stream": "stdout",
       "text": [
        " \n",
        "Feature Y3   0.745   "
       ]
      },
      {
       "output_type": "stream",
       "stream": "stdout",
       "text": [
        " 0.075   "
       ]
      },
      {
       "output_type": "stream",
       "stream": "stdout",
       "text": [
        " 0.210   "
       ]
      },
      {
       "output_type": "stream",
       "stream": "stdout",
       "text": [
        " 0.469   "
       ]
      },
      {
       "output_type": "stream",
       "stream": "stdout",
       "text": [
        " 0.121   "
       ]
      },
      {
       "output_type": "stream",
       "stream": "stdout",
       "text": [
        " 0.093   "
       ]
      },
      {
       "output_type": "stream",
       "stream": "stdout",
       "text": [
        " 0.580   "
       ]
      },
      {
       "output_type": "stream",
       "stream": "stdout",
       "text": [
        " 0.300   "
       ]
      },
      {
       "output_type": "stream",
       "stream": "stdout",
       "text": [
        " 0.165   "
       ]
      },
      {
       "output_type": "stream",
       "stream": "stdout",
       "text": [
        " 0.375   "
       ]
      },
      {
       "output_type": "stream",
       "stream": "stdout",
       "text": [
        " \n",
        "Feature Y4   0.066   "
       ]
      },
      {
       "output_type": "stream",
       "stream": "stdout",
       "text": [
        " 0.684   "
       ]
      },
      {
       "output_type": "stream",
       "stream": "stdout",
       "text": [
        " 0.516   "
       ]
      },
      {
       "output_type": "stream",
       "stream": "stdout",
       "text": [
        " 0.505   "
       ]
      },
      {
       "output_type": "stream",
       "stream": "stdout",
       "text": [
        " 0.075   "
       ]
      },
      {
       "output_type": "stream",
       "stream": "stdout",
       "text": [
        " 0.320   "
       ]
      },
      {
       "output_type": "stream",
       "stream": "stdout",
       "text": [
        " 0.345   "
       ]
      },
      {
       "output_type": "stream",
       "stream": "stdout",
       "text": [
        " 0.023[*]"
       ]
      },
      {
       "output_type": "stream",
       "stream": "stdout",
       "text": [
        " 0.281   "
       ]
      },
      {
       "output_type": "stream",
       "stream": "stdout",
       "text": [
        " 0.339   "
       ]
      },
      {
       "output_type": "stream",
       "stream": "stdout",
       "text": [
        " \n",
        "Feature Y5   0.171   "
       ]
      },
      {
       "output_type": "stream",
       "stream": "stdout",
       "text": [
        " 0.653   "
       ]
      },
      {
       "output_type": "stream",
       "stream": "stdout",
       "text": [
        " 0.381   "
       ]
      },
      {
       "output_type": "stream",
       "stream": "stdout",
       "text": [
        " 0.735   "
       ]
      },
      {
       "output_type": "stream",
       "stream": "stdout",
       "text": [
        " 0.145   "
       ]
      },
      {
       "output_type": "stream",
       "stream": "stdout",
       "text": [
        " 0.222   "
       ]
      },
      {
       "output_type": "stream",
       "stream": "stdout",
       "text": [
        " 0.230   "
       ]
      },
      {
       "output_type": "stream",
       "stream": "stdout",
       "text": [
        " 0.097   "
       ]
      },
      {
       "output_type": "stream",
       "stream": "stdout",
       "text": [
        " 0.705   "
       ]
      },
      {
       "output_type": "stream",
       "stream": "stdout",
       "text": [
        " 0.568   "
       ]
      },
      {
       "output_type": "stream",
       "stream": "stdout",
       "text": [
        " \n"
       ]
      }
     ],
     "prompt_number": 7
    },
    {
     "cell_type": "markdown",
     "metadata": {},
     "source": [
      "Is there an effect of time for group=group-2?"
     ]
    },
    {
     "cell_type": "code",
     "collapsed": false,
     "input": [
      "data[data.group=='group-2'].groupby(['feature','time']).mean()"
     ],
     "language": "python",
     "metadata": {},
     "outputs": [
      {
       "html": [
        "<div style=\"max-width:1500px;overflow:auto;\">\n",
        "<table border=\"1\" class=\"dataframe\">\n",
        "  <thead>\n",
        "    <tr style=\"text-align: right;\">\n",
        "      <th></th>\n",
        "      <th></th>\n",
        "      <th>O1</th>\n",
        "      <th>O2</th>\n",
        "      <th>Oz</th>\n",
        "      <th>Cz</th>\n",
        "      <th>C3</th>\n",
        "      <th>C4</th>\n",
        "      <th>Fz</th>\n",
        "      <th>F8</th>\n",
        "      <th>F7</th>\n",
        "      <th>Fpz</th>\n",
        "    </tr>\n",
        "    <tr>\n",
        "      <th>feature</th>\n",
        "      <th>time</th>\n",
        "      <th></th>\n",
        "      <th></th>\n",
        "      <th></th>\n",
        "      <th></th>\n",
        "      <th></th>\n",
        "      <th></th>\n",
        "      <th></th>\n",
        "      <th></th>\n",
        "      <th></th>\n",
        "      <th></th>\n",
        "    </tr>\n",
        "  </thead>\n",
        "  <tbody>\n",
        "    <tr>\n",
        "      <th rowspan=\"2\" valign=\"top\">Y1</th>\n",
        "      <th>T1</th>\n",
        "      <td>0.029352</td>\n",
        "      <td>-0.008531</td>\n",
        "      <td>-0.010835</td>\n",
        "      <td>0.006600</td>\n",
        "      <td>-0.024270</td>\n",
        "      <td>-0.002564</td>\n",
        "      <td>0.005140</td>\n",
        "      <td>-0.011245</td>\n",
        "      <td>0.001667</td>\n",
        "      <td>-0.039262</td>\n",
        "    </tr>\n",
        "    <tr>\n",
        "      <th>T2</th>\n",
        "      <td>0.023338</td>\n",
        "      <td>0.029416</td>\n",
        "      <td>0.013376</td>\n",
        "      <td>-0.009141</td>\n",
        "      <td>0.011445</td>\n",
        "      <td>-0.014437</td>\n",
        "      <td>-0.013572</td>\n",
        "      <td>-0.024958</td>\n",
        "      <td>-0.020589</td>\n",
        "      <td>0.064637</td>\n",
        "    </tr>\n",
        "    <tr>\n",
        "      <th rowspan=\"2\" valign=\"top\">Y2</th>\n",
        "      <th>T1</th>\n",
        "      <td>0.010589</td>\n",
        "      <td>-0.035916</td>\n",
        "      <td>-0.024660</td>\n",
        "      <td>0.041625</td>\n",
        "      <td>0.011879</td>\n",
        "      <td>-0.029978</td>\n",
        "      <td>-0.000338</td>\n",
        "      <td>0.054774</td>\n",
        "      <td>-0.045764</td>\n",
        "      <td>-0.015272</td>\n",
        "    </tr>\n",
        "    <tr>\n",
        "      <th>T2</th>\n",
        "      <td>0.000992</td>\n",
        "      <td>0.022372</td>\n",
        "      <td>-0.027174</td>\n",
        "      <td>0.021922</td>\n",
        "      <td>0.059285</td>\n",
        "      <td>0.045564</td>\n",
        "      <td>0.014912</td>\n",
        "      <td>0.000639</td>\n",
        "      <td>0.021485</td>\n",
        "      <td>0.020359</td>\n",
        "    </tr>\n",
        "    <tr>\n",
        "      <th rowspan=\"2\" valign=\"top\">Y3</th>\n",
        "      <th>T1</th>\n",
        "      <td>0.011022</td>\n",
        "      <td>0.010512</td>\n",
        "      <td>-0.011150</td>\n",
        "      <td>0.034502</td>\n",
        "      <td>-0.079794</td>\n",
        "      <td>0.123358</td>\n",
        "      <td>-0.037907</td>\n",
        "      <td>0.063274</td>\n",
        "      <td>0.012235</td>\n",
        "      <td>-0.014260</td>\n",
        "    </tr>\n",
        "    <tr>\n",
        "      <th>T2</th>\n",
        "      <td>0.031086</td>\n",
        "      <td>-0.047715</td>\n",
        "      <td>-0.045813</td>\n",
        "      <td>-0.024921</td>\n",
        "      <td>-0.011028</td>\n",
        "      <td>0.232549</td>\n",
        "      <td>-0.058789</td>\n",
        "      <td>-0.022955</td>\n",
        "      <td>-0.000919</td>\n",
        "      <td>-0.002038</td>\n",
        "    </tr>\n",
        "    <tr>\n",
        "      <th rowspan=\"2\" valign=\"top\">Y4</th>\n",
        "      <th>T1</th>\n",
        "      <td>-0.028874</td>\n",
        "      <td>0.022413</td>\n",
        "      <td>-0.018940</td>\n",
        "      <td>0.032732</td>\n",
        "      <td>0.016544</td>\n",
        "      <td>-0.156911</td>\n",
        "      <td>-0.063961</td>\n",
        "      <td>0.002701</td>\n",
        "      <td>-0.003191</td>\n",
        "      <td>0.028085</td>\n",
        "    </tr>\n",
        "    <tr>\n",
        "      <th>T2</th>\n",
        "      <td>-0.009662</td>\n",
        "      <td>0.048951</td>\n",
        "      <td>-0.006630</td>\n",
        "      <td>0.029225</td>\n",
        "      <td>0.007966</td>\n",
        "      <td>0.042997</td>\n",
        "      <td>0.004571</td>\n",
        "      <td>0.019351</td>\n",
        "      <td>0.041176</td>\n",
        "      <td>0.023909</td>\n",
        "    </tr>\n",
        "    <tr>\n",
        "      <th rowspan=\"2\" valign=\"top\">Y5</th>\n",
        "      <th>T1</th>\n",
        "      <td>0.001506</td>\n",
        "      <td>-0.003863</td>\n",
        "      <td>-0.055084</td>\n",
        "      <td>-0.003307</td>\n",
        "      <td>-0.031401</td>\n",
        "      <td>0.180300</td>\n",
        "      <td>-0.014928</td>\n",
        "      <td>-0.020460</td>\n",
        "      <td>-0.038032</td>\n",
        "      <td>-0.015259</td>\n",
        "    </tr>\n",
        "    <tr>\n",
        "      <th>T2</th>\n",
        "      <td>0.012529</td>\n",
        "      <td>-0.011395</td>\n",
        "      <td>0.060045</td>\n",
        "      <td>0.015672</td>\n",
        "      <td>0.000307</td>\n",
        "      <td>-0.100786</td>\n",
        "      <td>0.029475</td>\n",
        "      <td>0.007326</td>\n",
        "      <td>0.067762</td>\n",
        "      <td>0.014280</td>\n",
        "    </tr>\n",
        "  </tbody>\n",
        "</table>\n",
        "</div>"
       ],
       "metadata": {},
       "output_type": "pyout",
       "prompt_number": 17,
       "text": [
        "                    O1        O2        Oz        Cz        C3        C4  \\\n",
        "feature time                                                               \n",
        "Y1      T1    0.029352 -0.008531 -0.010835  0.006600 -0.024270 -0.002564   \n",
        "        T2    0.023338  0.029416  0.013376 -0.009141  0.011445 -0.014437   \n",
        "Y2      T1    0.010589 -0.035916 -0.024660  0.041625  0.011879 -0.029978   \n",
        "        T2    0.000992  0.022372 -0.027174  0.021922  0.059285  0.045564   \n",
        "Y3      T1    0.011022  0.010512 -0.011150  0.034502 -0.079794  0.123358   \n",
        "        T2    0.031086 -0.047715 -0.045813 -0.024921 -0.011028  0.232549   \n",
        "Y4      T1   -0.028874  0.022413 -0.018940  0.032732  0.016544 -0.156911   \n",
        "        T2   -0.009662  0.048951 -0.006630  0.029225  0.007966  0.042997   \n",
        "Y5      T1    0.001506 -0.003863 -0.055084 -0.003307 -0.031401  0.180300   \n",
        "        T2    0.012529 -0.011395  0.060045  0.015672  0.000307 -0.100786   \n",
        "\n",
        "                    Fz        F8        F7       Fpz  \n",
        "feature time                                          \n",
        "Y1      T1    0.005140 -0.011245  0.001667 -0.039262  \n",
        "        T2   -0.013572 -0.024958 -0.020589  0.064637  \n",
        "Y2      T1   -0.000338  0.054774 -0.045764 -0.015272  \n",
        "        T2    0.014912  0.000639  0.021485  0.020359  \n",
        "Y3      T1   -0.037907  0.063274  0.012235 -0.014260  \n",
        "        T2   -0.058789 -0.022955 -0.000919 -0.002038  \n",
        "Y4      T1   -0.063961  0.002701 -0.003191  0.028085  \n",
        "        T2    0.004571  0.019351  0.041176  0.023909  \n",
        "Y5      T1   -0.014928 -0.020460 -0.038032 -0.015259  \n",
        "        T2    0.029475  0.007326  0.067762  0.014280  "
       ]
      }
     ],
     "prompt_number": 17
    },
    {
     "cell_type": "code",
     "collapsed": false,
     "input": [
      "t1 = 'T1'\n",
      "t2 = 'T2'\n",
      "group_common = 'group-2'\n",
      "\n",
      "print('               {}'.format('       '.join(electrodes)))\n",
      "for feat_i in features:\n",
      "    print('Feature',feat_i,end='   ')\n",
      "    for elec_i in electrodes:\n",
      "        X1 = data.ix[np.all((data.group==group_common,data.time==t1,data.feature==feat_i),axis=0),\n",
      "                     elec_i]\n",
      "        X2 = data.ix[np.all((data.group==group_common,data.time==t2,data.feature==feat_i),axis=0),\n",
      "                     elec_i]\n",
      "        pvalue,original_diff,all_diffs = permutation_test(X1,X2,10000)\n",
      "        print('{:1.3f}{}'.format(pvalue,'[*]' if pvalue < 0.05 else '   '),end=' ')\n",
      "    print()"
     ],
     "language": "python",
     "metadata": {},
     "outputs": [
      {
       "output_type": "stream",
       "stream": "stdout",
       "text": [
        "               O1       O2       Oz       Cz       C3       C4       Fz       F8       F7       Fpz\n",
        "Feature Y1   0.880   "
       ]
      },
      {
       "output_type": "stream",
       "stream": "stdout",
       "text": [
        " 0.356   "
       ]
      },
      {
       "output_type": "stream",
       "stream": "stdout",
       "text": [
        " 0.485   "
       ]
      },
      {
       "output_type": "stream",
       "stream": "stdout",
       "text": [
        " 0.730   "
       ]
      },
      {
       "output_type": "stream",
       "stream": "stdout",
       "text": [
        " 0.324   "
       ]
      },
      {
       "output_type": "stream",
       "stream": "stdout",
       "text": [
        " 0.745   "
       ]
      },
      {
       "output_type": "stream",
       "stream": "stdout",
       "text": [
        " 0.654   "
       ]
      },
      {
       "output_type": "stream",
       "stream": "stdout",
       "text": [
        " 0.720   "
       ]
      },
      {
       "output_type": "stream",
       "stream": "stdout",
       "text": [
        " 0.590   "
       ]
      },
      {
       "output_type": "stream",
       "stream": "stdout",
       "text": [
        " 0.016[*]"
       ]
      },
      {
       "output_type": "stream",
       "stream": "stdout",
       "text": [
        " \n",
        "Feature Y2   0.789   "
       ]
      },
      {
       "output_type": "stream",
       "stream": "stdout",
       "text": [
        " 0.250   "
       ]
      },
      {
       "output_type": "stream",
       "stream": "stdout",
       "text": [
        " 0.943   "
       ]
      },
      {
       "output_type": "stream",
       "stream": "stdout",
       "text": [
        " 0.651   "
       ]
      },
      {
       "output_type": "stream",
       "stream": "stdout",
       "text": [
        " 0.190   "
       ]
      },
      {
       "output_type": "stream",
       "stream": "stdout",
       "text": [
        " 0.010[*]"
       ]
      },
      {
       "output_type": "stream",
       "stream": "stdout",
       "text": [
        " 0.666   "
       ]
      },
      {
       "output_type": "stream",
       "stream": "stdout",
       "text": [
        " 0.279   "
       ]
      },
      {
       "output_type": "stream",
       "stream": "stdout",
       "text": [
        " 0.155   "
       ]
      },
      {
       "output_type": "stream",
       "stream": "stdout",
       "text": [
        " 0.303   "
       ]
      },
      {
       "output_type": "stream",
       "stream": "stdout",
       "text": [
        " \n",
        "Feature Y3   0.560   "
       ]
      },
      {
       "output_type": "stream",
       "stream": "stdout",
       "text": [
        " 0.189   "
       ]
      },
      {
       "output_type": "stream",
       "stream": "stdout",
       "text": [
        " 0.335   "
       ]
      },
      {
       "output_type": "stream",
       "stream": "stdout",
       "text": [
        " 0.157   "
       ]
      },
      {
       "output_type": "stream",
       "stream": "stdout",
       "text": [
        " 0.112   "
       ]
      },
      {
       "output_type": "stream",
       "stream": "stdout",
       "text": [
        " 0.547   "
       ]
      },
      {
       "output_type": "stream",
       "stream": "stdout",
       "text": [
        " 0.655   "
       ]
      },
      {
       "output_type": "stream",
       "stream": "stdout",
       "text": [
        " 0.035[*]"
       ]
      },
      {
       "output_type": "stream",
       "stream": "stdout",
       "text": [
        " 0.717   "
       ]
      },
      {
       "output_type": "stream",
       "stream": "stdout",
       "text": [
        " 0.778   "
       ]
      },
      {
       "output_type": "stream",
       "stream": "stdout",
       "text": [
        " \n",
        "Feature Y4   0.666   "
       ]
      },
      {
       "output_type": "stream",
       "stream": "stdout",
       "text": [
        " 0.506   "
       ]
      },
      {
       "output_type": "stream",
       "stream": "stdout",
       "text": [
        " 0.765   "
       ]
      },
      {
       "output_type": "stream",
       "stream": "stdout",
       "text": [
        " 0.945   "
       ]
      },
      {
       "output_type": "stream",
       "stream": "stdout",
       "text": [
        " 0.810   "
       ]
      },
      {
       "output_type": "stream",
       "stream": "stdout",
       "text": [
        " 0.408   "
       ]
      },
      {
       "output_type": "stream",
       "stream": "stdout",
       "text": [
        " 0.034[*]"
       ]
      },
      {
       "output_type": "stream",
       "stream": "stdout",
       "text": [
        " 0.640   "
       ]
      },
      {
       "output_type": "stream",
       "stream": "stdout",
       "text": [
        " 0.212   "
       ]
      },
      {
       "output_type": "stream",
       "stream": "stdout",
       "text": [
        " 0.921   "
       ]
      },
      {
       "output_type": "stream",
       "stream": "stdout",
       "text": [
        " \n",
        "Feature Y5   0.802   "
       ]
      },
      {
       "output_type": "stream",
       "stream": "stdout",
       "text": [
        " 0.820   "
       ]
      },
      {
       "output_type": "stream",
       "stream": "stdout",
       "text": [
        " 0.003[*]"
       ]
      },
      {
       "output_type": "stream",
       "stream": "stdout",
       "text": [
        " 0.719   "
       ]
      },
      {
       "output_type": "stream",
       "stream": "stdout",
       "text": [
        " 0.357   "
       ]
      },
      {
       "output_type": "stream",
       "stream": "stdout",
       "text": [
        " 0.214   "
       ]
      },
      {
       "output_type": "stream",
       "stream": "stdout",
       "text": [
        " 0.326   "
       ]
      },
      {
       "output_type": "stream",
       "stream": "stdout",
       "text": [
        " 0.421   "
       ]
      },
      {
       "output_type": "stream",
       "stream": "stdout",
       "text": [
        " 0.010[*]"
       ]
      },
      {
       "output_type": "stream",
       "stream": "stdout",
       "text": [
        " 0.456   "
       ]
      },
      {
       "output_type": "stream",
       "stream": "stdout",
       "text": [
        " \n"
       ]
      }
     ],
     "prompt_number": 91
    },
    {
     "cell_type": "heading",
     "level": 1,
     "metadata": {},
     "source": [
      "Interaction effects"
     ]
    },
    {
     "cell_type": "code",
     "collapsed": false,
     "input": [
      "def interaction_p(data, feature, electrode):\n",
      "    robj.pandas2ri.activate()\n",
      "    R_anova_int = robj.r('''\n",
      "    function(df) {\n",
      "\n",
      "    ares = anova(lm(Y~time*group,df))\n",
      "\n",
      "    return (ares[[5]][1:3])\n",
      "    }\n",
      "    ''')\n",
      "    data1 = data[(data.feature == feature)][['time','group', electrode]]\n",
      "    data1['Y'] = data1[electrode]\n",
      "    #print(data1)\n",
      "    data_r = robj.conversion.py2ri(data1)\n",
      "\n",
      "    return np.asarray(R_anova_int(data_r))\n",
      "\n",
      "\n",
      "print('               {}'.format('       '.join(electrodes)))\n",
      "for feat_i in features:\n",
      "    print('Feature',feat_i,end='   ')\n",
      "    for elec_i in electrodes:\n",
      "        ptime,pgroup,pint = interaction_p(data, feat_i, elec_i)\n",
      "        pvalue = pgroup\n",
      "        print('{:1.3f}{}'.format(pvalue,'[*]' if pvalue < 0.05 else '   '),end=' ')\n",
      "    print()\n",
      "\n",
      "##interaction_p(data,'Y1','Oz')"
     ],
     "language": "python",
     "metadata": {},
     "outputs": [
      {
       "output_type": "stream",
       "stream": "stdout",
       "text": [
        "               O1       O2       Oz       Cz       C3       C4       Fz       F8       F7       Fpz\n",
        "Feature Y1   0.328   "
       ]
      },
      {
       "output_type": "stream",
       "stream": "stdout",
       "text": [
        " 0.332   "
       ]
      },
      {
       "output_type": "stream",
       "stream": "stdout",
       "text": [
        " 0.983   "
       ]
      },
      {
       "output_type": "stream",
       "stream": "stdout",
       "text": [
        " 0.174   "
       ]
      },
      {
       "output_type": "stream",
       "stream": "stdout",
       "text": [
        " 0.926   "
       ]
      },
      {
       "output_type": "stream",
       "stream": "stdout",
       "text": [
        " 0.467   "
       ]
      },
      {
       "output_type": "stream",
       "stream": "stdout",
       "text": [
        " 0.909    0.446   "
       ]
      },
      {
       "output_type": "stream",
       "stream": "stdout",
       "text": [
        " 0.776   "
       ]
      },
      {
       "output_type": "stream",
       "stream": "stdout",
       "text": [
        " 0.807   "
       ]
      },
      {
       "output_type": "stream",
       "stream": "stdout",
       "text": [
        " \n",
        "Feature Y2   0.219   "
       ]
      },
      {
       "output_type": "stream",
       "stream": "stdout",
       "text": [
        " 0.779   "
       ]
      },
      {
       "output_type": "stream",
       "stream": "stdout",
       "text": [
        " 0.427   "
       ]
      },
      {
       "output_type": "stream",
       "stream": "stdout",
       "text": [
        " 0.043[*]"
       ]
      },
      {
       "output_type": "stream",
       "stream": "stdout",
       "text": [
        " 0.484   "
       ]
      },
      {
       "output_type": "stream",
       "stream": "stdout",
       "text": [
        " 0.809   "
       ]
      },
      {
       "output_type": "stream",
       "stream": "stdout",
       "text": [
        " 0.823    0.995   "
       ]
      },
      {
       "output_type": "stream",
       "stream": "stdout",
       "text": [
        " 0.207   "
       ]
      },
      {
       "output_type": "stream",
       "stream": "stdout",
       "text": [
        " 0.919   "
       ]
      },
      {
       "output_type": "stream",
       "stream": "stdout",
       "text": [
        " \n",
        "Feature Y3   0.852    0.554   "
       ]
      },
      {
       "output_type": "stream",
       "stream": "stdout",
       "text": [
        " 0.852    0.768   "
       ]
      },
      {
       "output_type": "stream",
       "stream": "stdout",
       "text": [
        " 0.071    0.110   "
       ]
      },
      {
       "output_type": "stream",
       "stream": "stdout",
       "text": [
        " 0.453    0.431   "
       ]
      },
      {
       "output_type": "stream",
       "stream": "stdout",
       "text": [
        " 0.237   "
       ]
      },
      {
       "output_type": "stream",
       "stream": "stdout",
       "text": [
        " 0.891   "
       ]
      },
      {
       "output_type": "stream",
       "stream": "stdout",
       "text": [
        " \n",
        "Feature Y4   0.627    0.032[*]"
       ]
      },
      {
       "output_type": "stream",
       "stream": "stdout",
       "text": [
        " 0.585   "
       ]
      },
      {
       "output_type": "stream",
       "stream": "stdout",
       "text": [
        " 0.451    0.702   "
       ]
      },
      {
       "output_type": "stream",
       "stream": "stdout",
       "text": [
        " 0.521    0.145   "
       ]
      },
      {
       "output_type": "stream",
       "stream": "stdout",
       "text": [
        " 0.910   "
       ]
      },
      {
       "output_type": "stream",
       "stream": "stdout",
       "text": [
        " 0.138    0.945   "
       ]
      },
      {
       "output_type": "stream",
       "stream": "stdout",
       "text": [
        " \n",
        "Feature Y5   0.808    0.360   "
       ]
      },
      {
       "output_type": "stream",
       "stream": "stdout",
       "text": [
        " 0.765   "
       ]
      },
      {
       "output_type": "stream",
       "stream": "stdout",
       "text": [
        " 0.743   "
       ]
      },
      {
       "output_type": "stream",
       "stream": "stdout",
       "text": [
        " 0.112   "
       ]
      },
      {
       "output_type": "stream",
       "stream": "stdout",
       "text": [
        " 0.327    0.693   "
       ]
      },
      {
       "output_type": "stream",
       "stream": "stdout",
       "text": [
        " 0.387   "
       ]
      },
      {
       "output_type": "stream",
       "stream": "stdout",
       "text": [
        " 0.378   "
       ]
      },
      {
       "output_type": "stream",
       "stream": "stdout",
       "text": [
        " 0.597    \n"
       ]
      }
     ],
     "prompt_number": 92
    },
    {
     "cell_type": "heading",
     "level": 4,
     "metadata": {},
     "source": [
      "Some tests"
     ]
    },
    {
     "cell_type": "code",
     "collapsed": false,
     "input": [
      "t1 = 'T1'\n",
      "t2 = 'T2'\n",
      "group_common = 'group-2'\n",
      "rdf = pd.DataFrame(index=features,columns=electrodes)\n",
      "\n",
      "#print('               {}'.format('       '.join(electrodes)))\n",
      "for feat_i in features:\n",
      "    #print('Feature',feat_i,end='   ')\n",
      "    for elec_i in electrodes:\n",
      "        X1 = data.ix[np.all((data.group==group_common,data.time==t1,data.feature==feat_i),axis=0),\n",
      "                     elec_i]\n",
      "        X2 = data.ix[np.all((data.group==group_common,data.time==t2,data.feature==feat_i),axis=0),\n",
      "                     elec_i]\n",
      "        pvalue,original_diff,all_diffs = permutation_test(X1,X2,10000)\n",
      "        rdf.loc[feat_i,elec_i] = pvalue\n",
      "        #print('{:1.3f}{}'.format(pvalue,'[*]' if pvalue < 0.05 else '   '),end=' ')\n",
      "    #print()\n",
      "    \n",
      "display(rdf)"
     ],
     "language": "python",
     "metadata": {},
     "outputs": [
      {
       "html": [
        "<div style=\"max-width:1500px;overflow:auto;\">\n",
        "<table border=\"1\" class=\"dataframe\">\n",
        "  <thead>\n",
        "    <tr style=\"text-align: right;\">\n",
        "      <th></th>\n",
        "      <th>O1</th>\n",
        "      <th>O2</th>\n",
        "      <th>Oz</th>\n",
        "      <th>Cz</th>\n",
        "      <th>C3</th>\n",
        "      <th>C4</th>\n",
        "      <th>Fz</th>\n",
        "      <th>F8</th>\n",
        "      <th>F7</th>\n",
        "      <th>Fpz</th>\n",
        "    </tr>\n",
        "  </thead>\n",
        "  <tbody>\n",
        "    <tr>\n",
        "      <th>Y1</th>\n",
        "      <td>0.886</td>\n",
        "      <td>0.3517</td>\n",
        "      <td>0.4957</td>\n",
        "      <td>0.7301</td>\n",
        "      <td>0.3204</td>\n",
        "      <td>0.747</td>\n",
        "      <td>0.6424</td>\n",
        "      <td>0.7192</td>\n",
        "      <td>0.5809</td>\n",
        "      <td>0.0181</td>\n",
        "    </tr>\n",
        "    <tr>\n",
        "      <th>Y2</th>\n",
        "      <td>0.7954</td>\n",
        "      <td>0.2528</td>\n",
        "      <td>0.9496</td>\n",
        "      <td>0.6468</td>\n",
        "      <td>0.1967</td>\n",
        "      <td>0.0096</td>\n",
        "      <td>0.6681</td>\n",
        "      <td>0.2677</td>\n",
        "      <td>0.1566</td>\n",
        "      <td>0.3069</td>\n",
        "    </tr>\n",
        "    <tr>\n",
        "      <th>Y3</th>\n",
        "      <td>0.5747</td>\n",
        "      <td>0.1948</td>\n",
        "      <td>0.341</td>\n",
        "      <td>0.1652</td>\n",
        "      <td>0.1109</td>\n",
        "      <td>0.5432</td>\n",
        "      <td>0.6576</td>\n",
        "      <td>0.0366</td>\n",
        "      <td>0.7167</td>\n",
        "      <td>0.7858</td>\n",
        "    </tr>\n",
        "    <tr>\n",
        "      <th>Y4</th>\n",
        "      <td>0.6686</td>\n",
        "      <td>0.5075</td>\n",
        "      <td>0.7598</td>\n",
        "      <td>0.9481</td>\n",
        "      <td>0.8102</td>\n",
        "      <td>0.4139</td>\n",
        "      <td>0.0357</td>\n",
        "      <td>0.6344</td>\n",
        "      <td>0.2134</td>\n",
        "      <td>0.9217</td>\n",
        "    </tr>\n",
        "    <tr>\n",
        "      <th>Y5</th>\n",
        "      <td>0.799</td>\n",
        "      <td>0.8169</td>\n",
        "      <td>0.0043</td>\n",
        "      <td>0.7108</td>\n",
        "      <td>0.3566</td>\n",
        "      <td>0.2231</td>\n",
        "      <td>0.3144</td>\n",
        "      <td>0.4208</td>\n",
        "      <td>0.013</td>\n",
        "      <td>0.4573</td>\n",
        "    </tr>\n",
        "  </tbody>\n",
        "</table>\n",
        "</div>"
       ],
       "metadata": {},
       "output_type": "display_data",
       "text": [
        "        O1      O2      Oz      Cz      C3      C4      Fz      F8      F7  \\\n",
        "Y1   0.886  0.3517  0.4957  0.7301  0.3204   0.747  0.6424  0.7192  0.5809   \n",
        "Y2  0.7954  0.2528  0.9496  0.6468  0.1967  0.0096  0.6681  0.2677  0.1566   \n",
        "Y3  0.5747  0.1948   0.341  0.1652  0.1109  0.5432  0.6576  0.0366  0.7167   \n",
        "Y4  0.6686  0.5075  0.7598  0.9481  0.8102  0.4139  0.0357  0.6344  0.2134   \n",
        "Y5   0.799  0.8169  0.0043  0.7108  0.3566  0.2231  0.3144  0.4208   0.013   \n",
        "\n",
        "       Fpz  \n",
        "Y1  0.0181  \n",
        "Y2  0.3069  \n",
        "Y3  0.7858  \n",
        "Y4  0.9217  \n",
        "Y5  0.4573  "
       ]
      }
     ],
     "prompt_number": 23
    },
    {
     "cell_type": "code",
     "collapsed": false,
     "input": [
      "from toposcalp import myplot\n",
      "\n",
      "fig,axs = plt.subplots(1,5,figsize=(20.0, 8.0))\n",
      "for i in range(5):\n",
      "    myplot(np.asarray(rdf.ix[i]), electrodes, axs[i])\n",
      "    axs[i].set_title('Feature {}'.format(features[i]))"
     ],
     "language": "python",
     "metadata": {},
     "outputs": [
      {
       "metadata": {},
       "output_type": "display_data",
       "png": "[encoded data removed]",
       "text": [
        "<matplotlib.figure.Figure at 0x113219f98>"
       ]
      }
     ],
     "prompt_number": 101
    },
    {
     "cell_type": "code",
     "collapsed": false,
     "input": [
      "import inspect\n",
      "code = ''.join(inspect.getsourcelines(permutation_test)[0])\n",
      "print(code)"
     ],
     "language": "python",
     "metadata": {},
     "outputs": [
      {
       "output_type": "stream",
       "stream": "stdout",
       "text": [
        "def permutation_test(X1, X2, nperm=1000):\n",
        "    values = np.concatenate((np.asarray(X1),\n",
        "                             np.asarray(X2)))\n",
        "    differences = np.zeros(nperm)\n",
        "    nX1 = X1.size\n",
        "    nX2 = X2.size\n",
        "    indices = np.arange(nX1 + nX2)\n",
        "    for i in range(nperm):\n",
        "        np.random.shuffle(indices)\n",
        "        differences[i] = values[indices[:nX1]].mean() - values[indices[nX1:]].mean()\n",
        "\n",
        "    original_diff = np.abs(X1.mean() - X2.mean())\n",
        "    p = np.sum(np.abs(differences) >= original_diff) / nperm\n",
        "\n",
        "    return p, original_diff, differences\n",
        "\n"
       ]
      }
     ],
     "prompt_number": 54
    },
    {
     "cell_type": "heading",
     "level": 1,
     "metadata": {},
     "source": [
      "Still to-do list:"
     ]
    },
    {
     "cell_type": "markdown",
     "metadata": {},
     "source": [
      "- Change manually formatted table to panda dataframes so it's properly formatted in HTML\n",
      "- Also, this table can be better presented in a colored image/table\n",
      "- Discussion\n",
      "- Interactions effect? Probably do the same analysis disregarding the common time or group\n",
      "- PCA?\n",
      "- Topological plot of scalp"
     ]
    }
   ],
   "metadata": {}
  }
 ]
}