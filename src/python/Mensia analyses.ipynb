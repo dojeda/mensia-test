{
 "metadata": {
  "name": "",
  "signature": "sha256:3cf9177a5d0bd044c8f214caea24fc7500fd46536284f0c60bbe7b823c75bc3f"
 },
 "nbformat": 3,
 "nbformat_minor": 0,
 "worksheets": [
  {
   "cells": [
    {
     "cell_type": "markdown",
     "metadata": {},
     "source": [
      "Let's start by loading our data"
     ]
    },
    {
     "cell_type": "code",
     "collapsed": false,
     "input": [
      "import pandas as pd\n",
      "import numpy as np\n",
      "import scipy.stats as sps\n",
      "import rpy2.robjects as robj\n",
      "import rpy2.robjects.pandas2ri\n",
      "from rpy2.robjects.packages import importr\n",
      "import matplotlib.pyplot as plt\n",
      "pylab.rcParams['figure.figsize'] = (10.0, 8.0)\n",
      "\n",
      "from ptest import permutation_test\n",
      "\n",
      "datafile = '../../data/full_data.csv'\n",
      "\n",
      "data = pd.read_csv(datafile)\n",
      "\n",
      "features = data.feature.unique()\n",
      "groups   = data.group.unique()\n",
      "electrodes = 'O1 O2 Oz Cz C3 C4 Fz F8 F7 Fpz'.split()\n",
      "\n",
      "data.describe()"
     ],
     "language": "python",
     "metadata": {},
     "outputs": [
      {
       "html": [
        "<div style=\"max-width:1500px;overflow:auto;\">\n",
        "<table border=\"1\" class=\"dataframe\">\n",
        "  <thead>\n",
        "    <tr style=\"text-align: right;\">\n",
        "      <th></th>\n",
        "      <th>O1</th>\n",
        "      <th>O2</th>\n",
        "      <th>Oz</th>\n",
        "      <th>Cz</th>\n",
        "      <th>C3</th>\n",
        "      <th>C4</th>\n",
        "      <th>Fz</th>\n",
        "      <th>F8</th>\n",
        "      <th>F7</th>\n",
        "      <th>Fpz</th>\n",
        "    </tr>\n",
        "  </thead>\n",
        "  <tbody>\n",
        "    <tr>\n",
        "      <th>count</th>\n",
        "      <td>220.000000</td>\n",
        "      <td>220.000000</td>\n",
        "      <td>220.000000</td>\n",
        "      <td>220.000000</td>\n",
        "      <td>220.000000</td>\n",
        "      <td>220.000000</td>\n",
        "      <td>220.000000</td>\n",
        "      <td>220.000000</td>\n",
        "      <td>220.000000</td>\n",
        "      <td>220.000000</td>\n",
        "    </tr>\n",
        "    <tr>\n",
        "      <th>mean</th>\n",
        "      <td>0.010412</td>\n",
        "      <td>-0.007640</td>\n",
        "      <td>-0.013381</td>\n",
        "      <td>0.007200</td>\n",
        "      <td>0.003226</td>\n",
        "      <td>0.077505</td>\n",
        "      <td>-0.009577</td>\n",
        "      <td>0.009317</td>\n",
        "      <td>0.003806</td>\n",
        "      <td>0.006738</td>\n",
        "    </tr>\n",
        "    <tr>\n",
        "      <th>std</th>\n",
        "      <td>0.100521</td>\n",
        "      <td>0.105792</td>\n",
        "      <td>0.090973</td>\n",
        "      <td>0.113143</td>\n",
        "      <td>0.093362</td>\n",
        "      <td>0.448852</td>\n",
        "      <td>0.095648</td>\n",
        "      <td>0.096236</td>\n",
        "      <td>0.102174</td>\n",
        "      <td>0.099644</td>\n",
        "    </tr>\n",
        "    <tr>\n",
        "      <th>min</th>\n",
        "      <td>-0.304851</td>\n",
        "      <td>-0.287153</td>\n",
        "      <td>-0.294207</td>\n",
        "      <td>-0.270539</td>\n",
        "      <td>-0.244345</td>\n",
        "      <td>-1.016847</td>\n",
        "      <td>-0.291376</td>\n",
        "      <td>-0.239759</td>\n",
        "      <td>-0.286069</td>\n",
        "      <td>-0.294242</td>\n",
        "    </tr>\n",
        "    <tr>\n",
        "      <th>25%</th>\n",
        "      <td>-0.057961</td>\n",
        "      <td>-0.072891</td>\n",
        "      <td>-0.069117</td>\n",
        "      <td>-0.065565</td>\n",
        "      <td>-0.062218</td>\n",
        "      <td>-0.105515</td>\n",
        "      <td>-0.067576</td>\n",
        "      <td>-0.049643</td>\n",
        "      <td>-0.063197</td>\n",
        "      <td>-0.056031</td>\n",
        "    </tr>\n",
        "    <tr>\n",
        "      <th>50%</th>\n",
        "      <td>0.007203</td>\n",
        "      <td>-0.001747</td>\n",
        "      <td>-0.012236</td>\n",
        "      <td>0.008510</td>\n",
        "      <td>0.008410</td>\n",
        "      <td>0.022341</td>\n",
        "      <td>-0.011613</td>\n",
        "      <td>0.016279</td>\n",
        "      <td>0.005089</td>\n",
        "      <td>-0.005542</td>\n",
        "    </tr>\n",
        "    <tr>\n",
        "      <th>75%</th>\n",
        "      <td>0.075523</td>\n",
        "      <td>0.059479</td>\n",
        "      <td>0.047167</td>\n",
        "      <td>0.069565</td>\n",
        "      <td>0.065628</td>\n",
        "      <td>0.266962</td>\n",
        "      <td>0.041424</td>\n",
        "      <td>0.070519</td>\n",
        "      <td>0.063252</td>\n",
        "      <td>0.085695</td>\n",
        "    </tr>\n",
        "    <tr>\n",
        "      <th>max</th>\n",
        "      <td>0.275423</td>\n",
        "      <td>0.257177</td>\n",
        "      <td>0.243959</td>\n",
        "      <td>0.364713</td>\n",
        "      <td>0.215263</td>\n",
        "      <td>1.678375</td>\n",
        "      <td>0.300843</td>\n",
        "      <td>0.275997</td>\n",
        "      <td>0.276610</td>\n",
        "      <td>0.290539</td>\n",
        "    </tr>\n",
        "  </tbody>\n",
        "</table>\n",
        "</div>"
       ],
       "metadata": {},
       "output_type": "pyout",
       "prompt_number": 31,
       "text": [
        "               O1          O2          Oz          Cz          C3          C4  \\\n",
        "count  220.000000  220.000000  220.000000  220.000000  220.000000  220.000000   \n",
        "mean     0.010412   -0.007640   -0.013381    0.007200    0.003226    0.077505   \n",
        "std      0.100521    0.105792    0.090973    0.113143    0.093362    0.448852   \n",
        "min     -0.304851   -0.287153   -0.294207   -0.270539   -0.244345   -1.016847   \n",
        "25%     -0.057961   -0.072891   -0.069117   -0.065565   -0.062218   -0.105515   \n",
        "50%      0.007203   -0.001747   -0.012236    0.008510    0.008410    0.022341   \n",
        "75%      0.075523    0.059479    0.047167    0.069565    0.065628    0.266962   \n",
        "max      0.275423    0.257177    0.243959    0.364713    0.215263    1.678375   \n",
        "\n",
        "               Fz          F8          F7         Fpz  \n",
        "count  220.000000  220.000000  220.000000  220.000000  \n",
        "mean    -0.009577    0.009317    0.003806    0.006738  \n",
        "std      0.095648    0.096236    0.102174    0.099644  \n",
        "min     -0.291376   -0.239759   -0.286069   -0.294242  \n",
        "25%     -0.067576   -0.049643   -0.063197   -0.056031  \n",
        "50%     -0.011613    0.016279    0.005089   -0.005542  \n",
        "75%      0.041424    0.070519    0.063252    0.085695  \n",
        "max      0.300843    0.275997    0.276610    0.290539  "
       ]
      }
     ],
     "prompt_number": 31
    },
    {
     "cell_type": "code",
     "collapsed": false,
     "input": [
      "data.describe(include=['O'])"
     ],
     "language": "python",
     "metadata": {},
     "outputs": [
      {
       "html": [
        "<div style=\"max-width:1500px;overflow:auto;\">\n",
        "<table border=\"1\" class=\"dataframe\">\n",
        "  <thead>\n",
        "    <tr style=\"text-align: right;\">\n",
        "      <th></th>\n",
        "      <th>feature</th>\n",
        "      <th>subject</th>\n",
        "      <th>time</th>\n",
        "      <th>group</th>\n",
        "    </tr>\n",
        "  </thead>\n",
        "  <tbody>\n",
        "    <tr>\n",
        "      <th>count</th>\n",
        "      <td>220</td>\n",
        "      <td>220</td>\n",
        "      <td>220</td>\n",
        "      <td>220</td>\n",
        "    </tr>\n",
        "    <tr>\n",
        "      <th>unique</th>\n",
        "      <td>5</td>\n",
        "      <td>12</td>\n",
        "      <td>2</td>\n",
        "      <td>2</td>\n",
        "    </tr>\n",
        "    <tr>\n",
        "      <th>top</th>\n",
        "      <td>Y1</td>\n",
        "      <td>subject-01</td>\n",
        "      <td>T2</td>\n",
        "      <td>group-2</td>\n",
        "    </tr>\n",
        "    <tr>\n",
        "      <th>freq</th>\n",
        "      <td>44</td>\n",
        "      <td>20</td>\n",
        "      <td>110</td>\n",
        "      <td>120</td>\n",
        "    </tr>\n",
        "  </tbody>\n",
        "</table>\n",
        "</div>"
       ],
       "metadata": {},
       "output_type": "pyout",
       "prompt_number": 22,
       "text": [
        "       feature     subject time    group\n",
        "count      220         220  220      220\n",
        "unique       5          12    2        2\n",
        "top         Y1  subject-01   T2  group-2\n",
        "freq        44          20  110      120"
       ]
      }
     ],
     "prompt_number": 22
    },
    {
     "cell_type": "code",
     "collapsed": false,
     "input": [
      "data.groupby(['group','time','subject']).count()"
     ],
     "language": "python",
     "metadata": {},
     "outputs": [
      {
       "html": [
        "<div style=\"max-width:1500px;overflow:auto;\">\n",
        "<table border=\"1\" class=\"dataframe\">\n",
        "  <thead>\n",
        "    <tr style=\"text-align: right;\">\n",
        "      <th></th>\n",
        "      <th></th>\n",
        "      <th></th>\n",
        "      <th>O1</th>\n",
        "      <th>O2</th>\n",
        "      <th>Oz</th>\n",
        "      <th>Cz</th>\n",
        "      <th>C3</th>\n",
        "      <th>C4</th>\n",
        "      <th>Fz</th>\n",
        "      <th>F8</th>\n",
        "      <th>F7</th>\n",
        "      <th>Fpz</th>\n",
        "      <th>feature</th>\n",
        "    </tr>\n",
        "    <tr>\n",
        "      <th>group</th>\n",
        "      <th>time</th>\n",
        "      <th>subject</th>\n",
        "      <th></th>\n",
        "      <th></th>\n",
        "      <th></th>\n",
        "      <th></th>\n",
        "      <th></th>\n",
        "      <th></th>\n",
        "      <th></th>\n",
        "      <th></th>\n",
        "      <th></th>\n",
        "      <th></th>\n",
        "      <th></th>\n",
        "    </tr>\n",
        "  </thead>\n",
        "  <tbody>\n",
        "    <tr>\n",
        "      <th rowspan=\"20\" valign=\"top\">group-1</th>\n",
        "      <th rowspan=\"10\" valign=\"top\">T1</th>\n",
        "      <th>subject-00</th>\n",
        "      <td>5</td>\n",
        "      <td>5</td>\n",
        "      <td>5</td>\n",
        "      <td>5</td>\n",
        "      <td>5</td>\n",
        "      <td>5</td>\n",
        "      <td>5</td>\n",
        "      <td>5</td>\n",
        "      <td>5</td>\n",
        "      <td>5</td>\n",
        "      <td>5</td>\n",
        "    </tr>\n",
        "    <tr>\n",
        "      <th>subject-01</th>\n",
        "      <td>5</td>\n",
        "      <td>5</td>\n",
        "      <td>5</td>\n",
        "      <td>5</td>\n",
        "      <td>5</td>\n",
        "      <td>5</td>\n",
        "      <td>5</td>\n",
        "      <td>5</td>\n",
        "      <td>5</td>\n",
        "      <td>5</td>\n",
        "      <td>5</td>\n",
        "    </tr>\n",
        "    <tr>\n",
        "      <th>subject-02</th>\n",
        "      <td>5</td>\n",
        "      <td>5</td>\n",
        "      <td>5</td>\n",
        "      <td>5</td>\n",
        "      <td>5</td>\n",
        "      <td>5</td>\n",
        "      <td>5</td>\n",
        "      <td>5</td>\n",
        "      <td>5</td>\n",
        "      <td>5</td>\n",
        "      <td>5</td>\n",
        "    </tr>\n",
        "    <tr>\n",
        "      <th>subject-03</th>\n",
        "      <td>5</td>\n",
        "      <td>5</td>\n",
        "      <td>5</td>\n",
        "      <td>5</td>\n",
        "      <td>5</td>\n",
        "      <td>5</td>\n",
        "      <td>5</td>\n",
        "      <td>5</td>\n",
        "      <td>5</td>\n",
        "      <td>5</td>\n",
        "      <td>5</td>\n",
        "    </tr>\n",
        "    <tr>\n",
        "      <th>subject-04</th>\n",
        "      <td>5</td>\n",
        "      <td>5</td>\n",
        "      <td>5</td>\n",
        "      <td>5</td>\n",
        "      <td>5</td>\n",
        "      <td>5</td>\n",
        "      <td>5</td>\n",
        "      <td>5</td>\n",
        "      <td>5</td>\n",
        "      <td>5</td>\n",
        "      <td>5</td>\n",
        "    </tr>\n",
        "    <tr>\n",
        "      <th>subject-05</th>\n",
        "      <td>5</td>\n",
        "      <td>5</td>\n",
        "      <td>5</td>\n",
        "      <td>5</td>\n",
        "      <td>5</td>\n",
        "      <td>5</td>\n",
        "      <td>5</td>\n",
        "      <td>5</td>\n",
        "      <td>5</td>\n",
        "      <td>5</td>\n",
        "      <td>5</td>\n",
        "    </tr>\n",
        "    <tr>\n",
        "      <th>subject-06</th>\n",
        "      <td>5</td>\n",
        "      <td>5</td>\n",
        "      <td>5</td>\n",
        "      <td>5</td>\n",
        "      <td>5</td>\n",
        "      <td>5</td>\n",
        "      <td>5</td>\n",
        "      <td>5</td>\n",
        "      <td>5</td>\n",
        "      <td>5</td>\n",
        "      <td>5</td>\n",
        "    </tr>\n",
        "    <tr>\n",
        "      <th>subject-07</th>\n",
        "      <td>5</td>\n",
        "      <td>5</td>\n",
        "      <td>5</td>\n",
        "      <td>5</td>\n",
        "      <td>5</td>\n",
        "      <td>5</td>\n",
        "      <td>5</td>\n",
        "      <td>5</td>\n",
        "      <td>5</td>\n",
        "      <td>5</td>\n",
        "      <td>5</td>\n",
        "    </tr>\n",
        "    <tr>\n",
        "      <th>subject-08</th>\n",
        "      <td>5</td>\n",
        "      <td>5</td>\n",
        "      <td>5</td>\n",
        "      <td>5</td>\n",
        "      <td>5</td>\n",
        "      <td>5</td>\n",
        "      <td>5</td>\n",
        "      <td>5</td>\n",
        "      <td>5</td>\n",
        "      <td>5</td>\n",
        "      <td>5</td>\n",
        "    </tr>\n",
        "    <tr>\n",
        "      <th>subject-09</th>\n",
        "      <td>5</td>\n",
        "      <td>5</td>\n",
        "      <td>5</td>\n",
        "      <td>5</td>\n",
        "      <td>5</td>\n",
        "      <td>5</td>\n",
        "      <td>5</td>\n",
        "      <td>5</td>\n",
        "      <td>5</td>\n",
        "      <td>5</td>\n",
        "      <td>5</td>\n",
        "    </tr>\n",
        "    <tr>\n",
        "      <th rowspan=\"10\" valign=\"top\">T2</th>\n",
        "      <th>subject-00</th>\n",
        "      <td>5</td>\n",
        "      <td>5</td>\n",
        "      <td>5</td>\n",
        "      <td>5</td>\n",
        "      <td>5</td>\n",
        "      <td>5</td>\n",
        "      <td>5</td>\n",
        "      <td>5</td>\n",
        "      <td>5</td>\n",
        "      <td>5</td>\n",
        "      <td>5</td>\n",
        "    </tr>\n",
        "    <tr>\n",
        "      <th>subject-01</th>\n",
        "      <td>5</td>\n",
        "      <td>5</td>\n",
        "      <td>5</td>\n",
        "      <td>5</td>\n",
        "      <td>5</td>\n",
        "      <td>5</td>\n",
        "      <td>5</td>\n",
        "      <td>5</td>\n",
        "      <td>5</td>\n",
        "      <td>5</td>\n",
        "      <td>5</td>\n",
        "    </tr>\n",
        "    <tr>\n",
        "      <th>subject-02</th>\n",
        "      <td>5</td>\n",
        "      <td>5</td>\n",
        "      <td>5</td>\n",
        "      <td>5</td>\n",
        "      <td>5</td>\n",
        "      <td>5</td>\n",
        "      <td>5</td>\n",
        "      <td>5</td>\n",
        "      <td>5</td>\n",
        "      <td>5</td>\n",
        "      <td>5</td>\n",
        "    </tr>\n",
        "    <tr>\n",
        "      <th>subject-03</th>\n",
        "      <td>5</td>\n",
        "      <td>5</td>\n",
        "      <td>5</td>\n",
        "      <td>5</td>\n",
        "      <td>5</td>\n",
        "      <td>5</td>\n",
        "      <td>5</td>\n",
        "      <td>5</td>\n",
        "      <td>5</td>\n",
        "      <td>5</td>\n",
        "      <td>5</td>\n",
        "    </tr>\n",
        "    <tr>\n",
        "      <th>subject-04</th>\n",
        "      <td>5</td>\n",
        "      <td>5</td>\n",
        "      <td>5</td>\n",
        "      <td>5</td>\n",
        "      <td>5</td>\n",
        "      <td>5</td>\n",
        "      <td>5</td>\n",
        "      <td>5</td>\n",
        "      <td>5</td>\n",
        "      <td>5</td>\n",
        "      <td>5</td>\n",
        "    </tr>\n",
        "    <tr>\n",
        "      <th>subject-05</th>\n",
        "      <td>5</td>\n",
        "      <td>5</td>\n",
        "      <td>5</td>\n",
        "      <td>5</td>\n",
        "      <td>5</td>\n",
        "      <td>5</td>\n",
        "      <td>5</td>\n",
        "      <td>5</td>\n",
        "      <td>5</td>\n",
        "      <td>5</td>\n",
        "      <td>5</td>\n",
        "    </tr>\n",
        "    <tr>\n",
        "      <th>subject-06</th>\n",
        "      <td>5</td>\n",
        "      <td>5</td>\n",
        "      <td>5</td>\n",
        "      <td>5</td>\n",
        "      <td>5</td>\n",
        "      <td>5</td>\n",
        "      <td>5</td>\n",
        "      <td>5</td>\n",
        "      <td>5</td>\n",
        "      <td>5</td>\n",
        "      <td>5</td>\n",
        "    </tr>\n",
        "    <tr>\n",
        "      <th>subject-07</th>\n",
        "      <td>5</td>\n",
        "      <td>5</td>\n",
        "      <td>5</td>\n",
        "      <td>5</td>\n",
        "      <td>5</td>\n",
        "      <td>5</td>\n",
        "      <td>5</td>\n",
        "      <td>5</td>\n",
        "      <td>5</td>\n",
        "      <td>5</td>\n",
        "      <td>5</td>\n",
        "    </tr>\n",
        "    <tr>\n",
        "      <th>subject-08</th>\n",
        "      <td>5</td>\n",
        "      <td>5</td>\n",
        "      <td>5</td>\n",
        "      <td>5</td>\n",
        "      <td>5</td>\n",
        "      <td>5</td>\n",
        "      <td>5</td>\n",
        "      <td>5</td>\n",
        "      <td>5</td>\n",
        "      <td>5</td>\n",
        "      <td>5</td>\n",
        "    </tr>\n",
        "    <tr>\n",
        "      <th>subject-09</th>\n",
        "      <td>5</td>\n",
        "      <td>5</td>\n",
        "      <td>5</td>\n",
        "      <td>5</td>\n",
        "      <td>5</td>\n",
        "      <td>5</td>\n",
        "      <td>5</td>\n",
        "      <td>5</td>\n",
        "      <td>5</td>\n",
        "      <td>5</td>\n",
        "      <td>5</td>\n",
        "    </tr>\n",
        "    <tr>\n",
        "      <th rowspan=\"24\" valign=\"top\">group-2</th>\n",
        "      <th rowspan=\"12\" valign=\"top\">T1</th>\n",
        "      <th>subject-00</th>\n",
        "      <td>5</td>\n",
        "      <td>5</td>\n",
        "      <td>5</td>\n",
        "      <td>5</td>\n",
        "      <td>5</td>\n",
        "      <td>5</td>\n",
        "      <td>5</td>\n",
        "      <td>5</td>\n",
        "      <td>5</td>\n",
        "      <td>5</td>\n",
        "      <td>5</td>\n",
        "    </tr>\n",
        "    <tr>\n",
        "      <th>subject-01</th>\n",
        "      <td>5</td>\n",
        "      <td>5</td>\n",
        "      <td>5</td>\n",
        "      <td>5</td>\n",
        "      <td>5</td>\n",
        "      <td>5</td>\n",
        "      <td>5</td>\n",
        "      <td>5</td>\n",
        "      <td>5</td>\n",
        "      <td>5</td>\n",
        "      <td>5</td>\n",
        "    </tr>\n",
        "    <tr>\n",
        "      <th>subject-02</th>\n",
        "      <td>5</td>\n",
        "      <td>5</td>\n",
        "      <td>5</td>\n",
        "      <td>5</td>\n",
        "      <td>5</td>\n",
        "      <td>5</td>\n",
        "      <td>5</td>\n",
        "      <td>5</td>\n",
        "      <td>5</td>\n",
        "      <td>5</td>\n",
        "      <td>5</td>\n",
        "    </tr>\n",
        "    <tr>\n",
        "      <th>subject-03</th>\n",
        "      <td>5</td>\n",
        "      <td>5</td>\n",
        "      <td>5</td>\n",
        "      <td>5</td>\n",
        "      <td>5</td>\n",
        "      <td>5</td>\n",
        "      <td>5</td>\n",
        "      <td>5</td>\n",
        "      <td>5</td>\n",
        "      <td>5</td>\n",
        "      <td>5</td>\n",
        "    </tr>\n",
        "    <tr>\n",
        "      <th>subject-04</th>\n",
        "      <td>5</td>\n",
        "      <td>5</td>\n",
        "      <td>5</td>\n",
        "      <td>5</td>\n",
        "      <td>5</td>\n",
        "      <td>5</td>\n",
        "      <td>5</td>\n",
        "      <td>5</td>\n",
        "      <td>5</td>\n",
        "      <td>5</td>\n",
        "      <td>5</td>\n",
        "    </tr>\n",
        "    <tr>\n",
        "      <th>subject-05</th>\n",
        "      <td>5</td>\n",
        "      <td>5</td>\n",
        "      <td>5</td>\n",
        "      <td>5</td>\n",
        "      <td>5</td>\n",
        "      <td>5</td>\n",
        "      <td>5</td>\n",
        "      <td>5</td>\n",
        "      <td>5</td>\n",
        "      <td>5</td>\n",
        "      <td>5</td>\n",
        "    </tr>\n",
        "    <tr>\n",
        "      <th>subject-06</th>\n",
        "      <td>5</td>\n",
        "      <td>5</td>\n",
        "      <td>5</td>\n",
        "      <td>5</td>\n",
        "      <td>5</td>\n",
        "      <td>5</td>\n",
        "      <td>5</td>\n",
        "      <td>5</td>\n",
        "      <td>5</td>\n",
        "      <td>5</td>\n",
        "      <td>5</td>\n",
        "    </tr>\n",
        "    <tr>\n",
        "      <th>subject-07</th>\n",
        "      <td>5</td>\n",
        "      <td>5</td>\n",
        "      <td>5</td>\n",
        "      <td>5</td>\n",
        "      <td>5</td>\n",
        "      <td>5</td>\n",
        "      <td>5</td>\n",
        "      <td>5</td>\n",
        "      <td>5</td>\n",
        "      <td>5</td>\n",
        "      <td>5</td>\n",
        "    </tr>\n",
        "    <tr>\n",
        "      <th>subject-08</th>\n",
        "      <td>5</td>\n",
        "      <td>5</td>\n",
        "      <td>5</td>\n",
        "      <td>5</td>\n",
        "      <td>5</td>\n",
        "      <td>5</td>\n",
        "      <td>5</td>\n",
        "      <td>5</td>\n",
        "      <td>5</td>\n",
        "      <td>5</td>\n",
        "      <td>5</td>\n",
        "    </tr>\n",
        "    <tr>\n",
        "      <th>subject-09</th>\n",
        "      <td>5</td>\n",
        "      <td>5</td>\n",
        "      <td>5</td>\n",
        "      <td>5</td>\n",
        "      <td>5</td>\n",
        "      <td>5</td>\n",
        "      <td>5</td>\n",
        "      <td>5</td>\n",
        "      <td>5</td>\n",
        "      <td>5</td>\n",
        "      <td>5</td>\n",
        "    </tr>\n",
        "    <tr>\n",
        "      <th>subject-10</th>\n",
        "      <td>5</td>\n",
        "      <td>5</td>\n",
        "      <td>5</td>\n",
        "      <td>5</td>\n",
        "      <td>5</td>\n",
        "      <td>5</td>\n",
        "      <td>5</td>\n",
        "      <td>5</td>\n",
        "      <td>5</td>\n",
        "      <td>5</td>\n",
        "      <td>5</td>\n",
        "    </tr>\n",
        "    <tr>\n",
        "      <th>subject-11</th>\n",
        "      <td>5</td>\n",
        "      <td>5</td>\n",
        "      <td>5</td>\n",
        "      <td>5</td>\n",
        "      <td>5</td>\n",
        "      <td>5</td>\n",
        "      <td>5</td>\n",
        "      <td>5</td>\n",
        "      <td>5</td>\n",
        "      <td>5</td>\n",
        "      <td>5</td>\n",
        "    </tr>\n",
        "    <tr>\n",
        "      <th rowspan=\"12\" valign=\"top\">T2</th>\n",
        "      <th>subject-00</th>\n",
        "      <td>5</td>\n",
        "      <td>5</td>\n",
        "      <td>5</td>\n",
        "      <td>5</td>\n",
        "      <td>5</td>\n",
        "      <td>5</td>\n",
        "      <td>5</td>\n",
        "      <td>5</td>\n",
        "      <td>5</td>\n",
        "      <td>5</td>\n",
        "      <td>5</td>\n",
        "    </tr>\n",
        "    <tr>\n",
        "      <th>subject-01</th>\n",
        "      <td>5</td>\n",
        "      <td>5</td>\n",
        "      <td>5</td>\n",
        "      <td>5</td>\n",
        "      <td>5</td>\n",
        "      <td>5</td>\n",
        "      <td>5</td>\n",
        "      <td>5</td>\n",
        "      <td>5</td>\n",
        "      <td>5</td>\n",
        "      <td>5</td>\n",
        "    </tr>\n",
        "    <tr>\n",
        "      <th>subject-02</th>\n",
        "      <td>5</td>\n",
        "      <td>5</td>\n",
        "      <td>5</td>\n",
        "      <td>5</td>\n",
        "      <td>5</td>\n",
        "      <td>5</td>\n",
        "      <td>5</td>\n",
        "      <td>5</td>\n",
        "      <td>5</td>\n",
        "      <td>5</td>\n",
        "      <td>5</td>\n",
        "    </tr>\n",
        "    <tr>\n",
        "      <th>subject-03</th>\n",
        "      <td>5</td>\n",
        "      <td>5</td>\n",
        "      <td>5</td>\n",
        "      <td>5</td>\n",
        "      <td>5</td>\n",
        "      <td>5</td>\n",
        "      <td>5</td>\n",
        "      <td>5</td>\n",
        "      <td>5</td>\n",
        "      <td>5</td>\n",
        "      <td>5</td>\n",
        "    </tr>\n",
        "    <tr>\n",
        "      <th>subject-04</th>\n",
        "      <td>5</td>\n",
        "      <td>5</td>\n",
        "      <td>5</td>\n",
        "      <td>5</td>\n",
        "      <td>5</td>\n",
        "      <td>5</td>\n",
        "      <td>5</td>\n",
        "      <td>5</td>\n",
        "      <td>5</td>\n",
        "      <td>5</td>\n",
        "      <td>5</td>\n",
        "    </tr>\n",
        "    <tr>\n",
        "      <th>subject-05</th>\n",
        "      <td>5</td>\n",
        "      <td>5</td>\n",
        "      <td>5</td>\n",
        "      <td>5</td>\n",
        "      <td>5</td>\n",
        "      <td>5</td>\n",
        "      <td>5</td>\n",
        "      <td>5</td>\n",
        "      <td>5</td>\n",
        "      <td>5</td>\n",
        "      <td>5</td>\n",
        "    </tr>\n",
        "    <tr>\n",
        "      <th>subject-06</th>\n",
        "      <td>5</td>\n",
        "      <td>5</td>\n",
        "      <td>5</td>\n",
        "      <td>5</td>\n",
        "      <td>5</td>\n",
        "      <td>5</td>\n",
        "      <td>5</td>\n",
        "      <td>5</td>\n",
        "      <td>5</td>\n",
        "      <td>5</td>\n",
        "      <td>5</td>\n",
        "    </tr>\n",
        "    <tr>\n",
        "      <th>subject-07</th>\n",
        "      <td>5</td>\n",
        "      <td>5</td>\n",
        "      <td>5</td>\n",
        "      <td>5</td>\n",
        "      <td>5</td>\n",
        "      <td>5</td>\n",
        "      <td>5</td>\n",
        "      <td>5</td>\n",
        "      <td>5</td>\n",
        "      <td>5</td>\n",
        "      <td>5</td>\n",
        "    </tr>\n",
        "    <tr>\n",
        "      <th>subject-08</th>\n",
        "      <td>5</td>\n",
        "      <td>5</td>\n",
        "      <td>5</td>\n",
        "      <td>5</td>\n",
        "      <td>5</td>\n",
        "      <td>5</td>\n",
        "      <td>5</td>\n",
        "      <td>5</td>\n",
        "      <td>5</td>\n",
        "      <td>5</td>\n",
        "      <td>5</td>\n",
        "    </tr>\n",
        "    <tr>\n",
        "      <th>subject-09</th>\n",
        "      <td>5</td>\n",
        "      <td>5</td>\n",
        "      <td>5</td>\n",
        "      <td>5</td>\n",
        "      <td>5</td>\n",
        "      <td>5</td>\n",
        "      <td>5</td>\n",
        "      <td>5</td>\n",
        "      <td>5</td>\n",
        "      <td>5</td>\n",
        "      <td>5</td>\n",
        "    </tr>\n",
        "    <tr>\n",
        "      <th>subject-10</th>\n",
        "      <td>5</td>\n",
        "      <td>5</td>\n",
        "      <td>5</td>\n",
        "      <td>5</td>\n",
        "      <td>5</td>\n",
        "      <td>5</td>\n",
        "      <td>5</td>\n",
        "      <td>5</td>\n",
        "      <td>5</td>\n",
        "      <td>5</td>\n",
        "      <td>5</td>\n",
        "    </tr>\n",
        "    <tr>\n",
        "      <th>subject-11</th>\n",
        "      <td>5</td>\n",
        "      <td>5</td>\n",
        "      <td>5</td>\n",
        "      <td>5</td>\n",
        "      <td>5</td>\n",
        "      <td>5</td>\n",
        "      <td>5</td>\n",
        "      <td>5</td>\n",
        "      <td>5</td>\n",
        "      <td>5</td>\n",
        "      <td>5</td>\n",
        "    </tr>\n",
        "  </tbody>\n",
        "</table>\n",
        "</div>"
       ],
       "metadata": {},
       "output_type": "pyout",
       "prompt_number": 23,
       "text": [
        "                         O1  O2  Oz  Cz  C3  C4  Fz  F8  F7  Fpz  feature\n",
        "group   time subject                                                     \n",
        "group-1 T1   subject-00   5   5   5   5   5   5   5   5   5    5        5\n",
        "             subject-01   5   5   5   5   5   5   5   5   5    5        5\n",
        "             subject-02   5   5   5   5   5   5   5   5   5    5        5\n",
        "             subject-03   5   5   5   5   5   5   5   5   5    5        5\n",
        "             subject-04   5   5   5   5   5   5   5   5   5    5        5\n",
        "             subject-05   5   5   5   5   5   5   5   5   5    5        5\n",
        "             subject-06   5   5   5   5   5   5   5   5   5    5        5\n",
        "             subject-07   5   5   5   5   5   5   5   5   5    5        5\n",
        "             subject-08   5   5   5   5   5   5   5   5   5    5        5\n",
        "             subject-09   5   5   5   5   5   5   5   5   5    5        5\n",
        "        T2   subject-00   5   5   5   5   5   5   5   5   5    5        5\n",
        "             subject-01   5   5   5   5   5   5   5   5   5    5        5\n",
        "             subject-02   5   5   5   5   5   5   5   5   5    5        5\n",
        "             subject-03   5   5   5   5   5   5   5   5   5    5        5\n",
        "             subject-04   5   5   5   5   5   5   5   5   5    5        5\n",
        "             subject-05   5   5   5   5   5   5   5   5   5    5        5\n",
        "             subject-06   5   5   5   5   5   5   5   5   5    5        5\n",
        "             subject-07   5   5   5   5   5   5   5   5   5    5        5\n",
        "             subject-08   5   5   5   5   5   5   5   5   5    5        5\n",
        "             subject-09   5   5   5   5   5   5   5   5   5    5        5\n",
        "group-2 T1   subject-00   5   5   5   5   5   5   5   5   5    5        5\n",
        "             subject-01   5   5   5   5   5   5   5   5   5    5        5\n",
        "             subject-02   5   5   5   5   5   5   5   5   5    5        5\n",
        "             subject-03   5   5   5   5   5   5   5   5   5    5        5\n",
        "             subject-04   5   5   5   5   5   5   5   5   5    5        5\n",
        "             subject-05   5   5   5   5   5   5   5   5   5    5        5\n",
        "             subject-06   5   5   5   5   5   5   5   5   5    5        5\n",
        "             subject-07   5   5   5   5   5   5   5   5   5    5        5\n",
        "             subject-08   5   5   5   5   5   5   5   5   5    5        5\n",
        "             subject-09   5   5   5   5   5   5   5   5   5    5        5\n",
        "             subject-10   5   5   5   5   5   5   5   5   5    5        5\n",
        "             subject-11   5   5   5   5   5   5   5   5   5    5        5\n",
        "        T2   subject-00   5   5   5   5   5   5   5   5   5    5        5\n",
        "             subject-01   5   5   5   5   5   5   5   5   5    5        5\n",
        "             subject-02   5   5   5   5   5   5   5   5   5    5        5\n",
        "             subject-03   5   5   5   5   5   5   5   5   5    5        5\n",
        "             subject-04   5   5   5   5   5   5   5   5   5    5        5\n",
        "             subject-05   5   5   5   5   5   5   5   5   5    5        5\n",
        "             subject-06   5   5   5   5   5   5   5   5   5    5        5\n",
        "             subject-07   5   5   5   5   5   5   5   5   5    5        5\n",
        "             subject-08   5   5   5   5   5   5   5   5   5    5        5\n",
        "             subject-09   5   5   5   5   5   5   5   5   5    5        5\n",
        "             subject-10   5   5   5   5   5   5   5   5   5    5        5\n",
        "             subject-11   5   5   5   5   5   5   5   5   5    5        5"
       ]
      }
     ],
     "prompt_number": 23
    },
    {
     "cell_type": "markdown",
     "metadata": {},
     "source": [
      "Subject 10 and 11 are only present in the Group 2"
     ]
    },
    {
     "cell_type": "code",
     "collapsed": false,
     "input": [
      "# Let's make a chart of available data\n",
      "robj.pandas2ri.activate()\n",
      "R_chart_code = robj.r('''\n",
      "function(df) {\n",
      "\n",
      "require(ggplot2)\n",
      "require(GGally)\n",
      "\n",
      "gp = GGally::ggpairs(df[,c('group','subject','time')])\n",
      "\n",
      "png('dataset-pairs.png',pointsize=24, width=1024, height=768)\n",
      "print(gp)\n",
      "dev.off()\n",
      "\n",
      "}\n",
      "''')\n",
      "data_r = robj.conversion.py2ri(data)\n",
      "#R_chart_code(data_r)\n",
      "\n",
      "#plt.imshow(plt.imread('dataset-pairs.png'), aspect='auto')\n",
      "#plt.axis('off')"
     ],
     "language": "python",
     "metadata": {},
     "outputs": [],
     "prompt_number": 24
    },
    {
     "cell_type": "raw",
     "metadata": {},
     "source": [
      "Data is organized as\n",
      "             Group \n",
      "        group-1 group-2\n",
      "Time T1     ...     ...\n",
      "     T2     ...     ..."
     ]
    },
    {
     "cell_type": "heading",
     "level": 1,
     "metadata": {},
     "source": [
      "Effect of group"
     ]
    },
    {
     "cell_type": "markdown",
     "metadata": {},
     "source": [
      "Is there an effect of group for time=T1?\n",
      "\n",
      "Considering output variables as all five different features, for each electrode"
     ]
    },
    {
     "cell_type": "code",
     "collapsed": false,
     "input": [
      "g1 = 'group-1'\n",
      "g2 = 'group-2'\n",
      "time_common = 'T1'\n",
      "\n",
      "print('               {}'.format('       '.join(electrodes)))\n",
      "for feat_i in features:\n",
      "    print('Feature',feat_i,end='   ')\n",
      "    for elec_i in electrodes:\n",
      "        X1 = data.ix[np.all((data.group==g1,data.time==time_common,data.feature==feat_i),axis=0),\n",
      "                     elec_i]\n",
      "        X2 = data.ix[np.all((data.group==g2,data.time==time_common,data.feature==feat_i),axis=0),\n",
      "                     elec_i]\n",
      "        pvalue,original_diff,all_diffs = permutation_test(X1,X2,10000)\n",
      "        print('{:1.3f}{}'.format(pvalue,'[*]' if pvalue < 0.05 else '   '),end=' ')\n",
      "    print()\n"
     ],
     "language": "python",
     "metadata": {},
     "outputs": [
      {
       "output_type": "stream",
       "stream": "stdout",
       "text": [
        "               O1       O2       Oz       Cz       C3       C4       Fz       F8       F7       Fpz\n",
        "Feature Y1   0.981   "
       ]
      },
      {
       "output_type": "stream",
       "stream": "stdout",
       "text": [
        " 0.620   "
       ]
      },
      {
       "output_type": "stream",
       "stream": "stdout",
       "text": [
        " 0.487   "
       ]
      },
      {
       "output_type": "stream",
       "stream": "stdout",
       "text": [
        " 0.202   "
       ]
      },
      {
       "output_type": "stream",
       "stream": "stdout",
       "text": [
        " 0.753   "
       ]
      },
      {
       "output_type": "stream",
       "stream": "stdout",
       "text": [
        " 0.299   "
       ]
      },
      {
       "output_type": "stream",
       "stream": "stdout",
       "text": [
        " 0.741   "
       ]
      },
      {
       "output_type": "stream",
       "stream": "stdout",
       "text": [
        " 0.433   "
       ]
      },
      {
       "output_type": "stream",
       "stream": "stdout",
       "text": [
        " 0.579   "
       ]
      },
      {
       "output_type": "stream",
       "stream": "stdout",
       "text": [
        " 0.195   "
       ]
      },
      {
       "output_type": "stream",
       "stream": "stdout",
       "text": [
        " \n",
        "Feature Y2   0.326   "
       ]
      },
      {
       "output_type": "stream",
       "stream": "stdout",
       "text": [
        " 0.893   "
       ]
      },
      {
       "output_type": "stream",
       "stream": "stdout",
       "text": [
        " 0.492   "
       ]
      },
      {
       "output_type": "stream",
       "stream": "stdout",
       "text": [
        " 0.008[*]"
       ]
      },
      {
       "output_type": "stream",
       "stream": "stdout",
       "text": [
        " 0.708   "
       ]
      },
      {
       "output_type": "stream",
       "stream": "stdout",
       "text": [
        " 0.099   "
       ]
      },
      {
       "output_type": "stream",
       "stream": "stdout",
       "text": [
        " 0.308   "
       ]
      },
      {
       "output_type": "stream",
       "stream": "stdout",
       "text": [
        " 0.876   "
       ]
      },
      {
       "output_type": "stream",
       "stream": "stdout",
       "text": [
        " 0.081   "
       ]
      },
      {
       "output_type": "stream",
       "stream": "stdout",
       "text": [
        " 0.926   "
       ]
      },
      {
       "output_type": "stream",
       "stream": "stdout",
       "text": [
        " \n",
        "Feature Y3   0.969   "
       ]
      },
      {
       "output_type": "stream",
       "stream": "stdout",
       "text": [
        " 0.354   "
       ]
      },
      {
       "output_type": "stream",
       "stream": "stdout",
       "text": [
        " 0.541   "
       ]
      },
      {
       "output_type": "stream",
       "stream": "stdout",
       "text": [
        " 0.911   "
       ]
      },
      {
       "output_type": "stream",
       "stream": "stdout",
       "text": [
        " 0.003[*]"
       ]
      },
      {
       "output_type": "stream",
       "stream": "stdout",
       "text": [
        " 0.716   "
       ]
      },
      {
       "output_type": "stream",
       "stream": "stdout",
       "text": [
        " 0.515   "
       ]
      },
      {
       "output_type": "stream",
       "stream": "stdout",
       "text": [
        " 0.262   "
       ]
      },
      {
       "output_type": "stream",
       "stream": "stdout",
       "text": [
        " 0.864   "
       ]
      },
      {
       "output_type": "stream",
       "stream": "stdout",
       "text": [
        " 0.804   "
       ]
      },
      {
       "output_type": "stream",
       "stream": "stdout",
       "text": [
        " \n",
        "Feature Y4   0.080   "
       ]
      },
      {
       "output_type": "stream",
       "stream": "stdout",
       "text": [
        " 0.265   "
       ]
      },
      {
       "output_type": "stream",
       "stream": "stdout",
       "text": [
        " 0.816   "
       ]
      },
      {
       "output_type": "stream",
       "stream": "stdout",
       "text": [
        " 0.280   "
       ]
      },
      {
       "output_type": "stream",
       "stream": "stdout",
       "text": [
        " 0.212   "
       ]
      },
      {
       "output_type": "stream",
       "stream": "stdout",
       "text": [
        " 0.767   "
       ]
      },
      {
       "output_type": "stream",
       "stream": "stdout",
       "text": [
        " 0.220   "
       ]
      },
      {
       "output_type": "stream",
       "stream": "stdout",
       "text": [
        " 0.184   "
       ]
      },
      {
       "output_type": "stream",
       "stream": "stdout",
       "text": [
        " 0.902   "
       ]
      },
      {
       "output_type": "stream",
       "stream": "stdout",
       "text": [
        " 0.591   "
       ]
      },
      {
       "output_type": "stream",
       "stream": "stdout",
       "text": [
        " \n",
        "Feature Y5   0.319   "
       ]
      },
      {
       "output_type": "stream",
       "stream": "stdout",
       "text": [
        " 0.608   "
       ]
      },
      {
       "output_type": "stream",
       "stream": "stdout",
       "text": [
        " 0.298   "
       ]
      },
      {
       "output_type": "stream",
       "stream": "stdout",
       "text": [
        " 0.837   "
       ]
      },
      {
       "output_type": "stream",
       "stream": "stdout",
       "text": [
        " 0.473   "
       ]
      },
      {
       "output_type": "stream",
       "stream": "stdout",
       "text": [
        " 0.572   "
       ]
      },
      {
       "output_type": "stream",
       "stream": "stdout",
       "text": [
        " 0.810   "
       ]
      },
      {
       "output_type": "stream",
       "stream": "stdout",
       "text": [
        " 0.959   "
       ]
      },
      {
       "output_type": "stream",
       "stream": "stdout",
       "text": [
        " 0.624   "
       ]
      },
      {
       "output_type": "stream",
       "stream": "stdout",
       "text": [
        " 0.750   "
       ]
      },
      {
       "output_type": "stream",
       "stream": "stdout",
       "text": [
        " \n"
       ]
      }
     ],
     "prompt_number": 32
    },
    {
     "cell_type": "markdown",
     "metadata": {},
     "source": [
      "Is there an effect for time=T2?"
     ]
    },
    {
     "cell_type": "code",
     "collapsed": false,
     "input": [
      "time_common = 'T2'\n",
      "\n",
      "print('               {}'.format('       '.join(electrodes)))\n",
      "for feat_i in features:\n",
      "    print('Feature',feat_i,end='   ')\n",
      "    for elec_i in electrodes:\n",
      "        X1 = data.ix[np.all((data.group==g1,data.time==time_common,data.feature==feat_i),axis=0),\n",
      "                     elec_i]\n",
      "        X2 = data.ix[np.all((data.group==g2,data.time==time_common,data.feature==feat_i),axis=0),\n",
      "                     elec_i]\n",
      "        pvalue,original_diff,all_diffs = permutation_test(X1,X2,10000)\n",
      "        print('{:1.3f}{}'.format(pvalue,'[*]' if pvalue < 0.05 else '   '),end=' ')\n",
      "    print()"
     ],
     "language": "python",
     "metadata": {},
     "outputs": [
      {
       "output_type": "stream",
       "stream": "stdout",
       "text": [
        "               O1       O2       Oz       Cz       C3       C4       Fz       F8       F7       Fpz\n",
        "Feature Y1   0.181   "
       ]
      },
      {
       "output_type": "stream",
       "stream": "stdout",
       "text": [
        " 0.387   "
       ]
      },
      {
       "output_type": "stream",
       "stream": "stdout",
       "text": [
        " 0.247   "
       ]
      },
      {
       "output_type": "stream",
       "stream": "stdout",
       "text": [
        " 0.530   "
       ]
      },
      {
       "output_type": "stream",
       "stream": "stdout",
       "text": [
        " 0.571   "
       ]
      },
      {
       "output_type": "stream",
       "stream": "stdout",
       "text": [
        " 0.845   "
       ]
      },
      {
       "output_type": "stream",
       "stream": "stdout",
       "text": [
        " 0.855   "
       ]
      },
      {
       "output_type": "stream",
       "stream": "stdout",
       "text": [
        " 0.743   "
       ]
      },
      {
       "output_type": "stream",
       "stream": "stdout",
       "text": [
        " 0.869   "
       ]
      },
      {
       "output_type": "stream",
       "stream": "stdout",
       "text": [
        " 0.395   "
       ]
      },
      {
       "output_type": "stream",
       "stream": "stdout",
       "text": [
        " \n",
        "Feature Y2   0.474   "
       ]
      },
      {
       "output_type": "stream",
       "stream": "stdout",
       "text": [
        " 0.599   "
       ]
      },
      {
       "output_type": "stream",
       "stream": "stdout",
       "text": [
        " 0.672   "
       ]
      },
      {
       "output_type": "stream",
       "stream": "stdout",
       "text": [
        " 0.829   "
       ]
      },
      {
       "output_type": "stream",
       "stream": "stdout",
       "text": [
        " 0.211   "
       ]
      },
      {
       "output_type": "stream",
       "stream": "stdout",
       "text": [
        " 0.023[*]"
       ]
      },
      {
       "output_type": "stream",
       "stream": "stdout",
       "text": [
        " 0.257   "
       ]
      },
      {
       "output_type": "stream",
       "stream": "stdout",
       "text": [
        " 0.870   "
       ]
      },
      {
       "output_type": "stream",
       "stream": "stdout",
       "text": [
        " 0.678   "
       ]
      },
      {
       "output_type": "stream",
       "stream": "stdout",
       "text": [
        " 0.822   "
       ]
      },
      {
       "output_type": "stream",
       "stream": "stdout",
       "text": [
        " \n",
        "Feature Y3   0.824   "
       ]
      },
      {
       "output_type": "stream",
       "stream": "stdout",
       "text": [
        " 0.965   "
       ]
      },
      {
       "output_type": "stream",
       "stream": "stdout",
       "text": [
        " 0.839   "
       ]
      },
      {
       "output_type": "stream",
       "stream": "stdout",
       "text": [
        " 0.416   "
       ]
      },
      {
       "output_type": "stream",
       "stream": "stdout",
       "text": [
        " 0.756   "
       ]
      },
      {
       "output_type": "stream",
       "stream": "stdout",
       "text": [
        " 0.074   "
       ]
      },
      {
       "output_type": "stream",
       "stream": "stdout",
       "text": [
        " 0.691   "
       ]
      },
      {
       "output_type": "stream",
       "stream": "stdout",
       "text": [
        " 0.974   "
       ]
      },
      {
       "output_type": "stream",
       "stream": "stdout",
       "text": [
        " 0.070   "
       ]
      },
      {
       "output_type": "stream",
       "stream": "stdout",
       "text": [
        " 0.678   "
       ]
      },
      {
       "output_type": "stream",
       "stream": "stdout",
       "text": [
        " \n",
        "Feature Y4   0.400   "
       ]
      },
      {
       "output_type": "stream",
       "stream": "stdout",
       "text": [
        " 0.063   "
       ]
      },
      {
       "output_type": "stream",
       "stream": "stdout",
       "text": [
        " 0.584   "
       ]
      },
      {
       "output_type": "stream",
       "stream": "stdout",
       "text": [
        " 0.863   "
       ]
      },
      {
       "output_type": "stream",
       "stream": "stdout",
       "text": [
        " 0.448   "
       ]
      },
      {
       "output_type": "stream",
       "stream": "stdout",
       "text": [
        " 0.558   "
       ]
      },
      {
       "output_type": "stream",
       "stream": "stdout",
       "text": [
        " 0.430   "
       ]
      },
      {
       "output_type": "stream",
       "stream": "stdout",
       "text": [
        " 0.121   "
       ]
      },
      {
       "output_type": "stream",
       "stream": "stdout",
       "text": [
        " 0.043[*]"
       ]
      },
      {
       "output_type": "stream",
       "stream": "stdout",
       "text": [
        " 0.688   "
       ]
      },
      {
       "output_type": "stream",
       "stream": "stdout",
       "text": [
        " \n",
        "Feature Y5   0.509   "
       ]
      },
      {
       "output_type": "stream",
       "stream": "stdout",
       "text": [
        " 0.454   "
       ]
      },
      {
       "output_type": "stream",
       "stream": "stdout",
       "text": [
        " 0.270   "
       ]
      },
      {
       "output_type": "stream",
       "stream": "stdout",
       "text": [
        " 0.779   "
       ]
      },
      {
       "output_type": "stream",
       "stream": "stdout",
       "text": [
        " 0.143   "
       ]
      },
      {
       "output_type": "stream",
       "stream": "stdout",
       "text": [
        " 0.073   "
       ]
      },
      {
       "output_type": "stream",
       "stream": "stdout",
       "text": [
        " 0.764   "
       ]
      },
      {
       "output_type": "stream",
       "stream": "stdout",
       "text": [
        " 0.238   "
       ]
      },
      {
       "output_type": "stream",
       "stream": "stdout",
       "text": [
        " 0.080   "
       ]
      },
      {
       "output_type": "stream",
       "stream": "stdout",
       "text": [
        " 0.662   "
       ]
      },
      {
       "output_type": "stream",
       "stream": "stdout",
       "text": [
        " \n"
       ]
      }
     ],
     "prompt_number": 33
    },
    {
     "cell_type": "heading",
     "level": 1,
     "metadata": {},
     "source": [
      "Effect of time"
     ]
    },
    {
     "cell_type": "markdown",
     "metadata": {},
     "source": [
      "Is there an effect of time for group=group-1?"
     ]
    },
    {
     "cell_type": "code",
     "collapsed": false,
     "input": [
      "t1 = 'T1'\n",
      "t2 = 'T2'\n",
      "group_common = 'group-1'\n",
      "\n",
      "print('               {}'.format('       '.join(electrodes)))\n",
      "for feat_i in features:\n",
      "    print('Feature',feat_i,end='   ')\n",
      "    for elec_i in electrodes:\n",
      "        X1 = data.ix[np.all((data.group==group_common,data.time==t1,data.feature==feat_i),axis=0),\n",
      "                     elec_i]\n",
      "        X2 = data.ix[np.all((data.group==group_common,data.time==t2,data.feature==feat_i),axis=0),\n",
      "                     elec_i]\n",
      "        pvalue,original_diff,all_diffs = permutation_test(X1,X2,10000)\n",
      "        print('{:1.3f}{}'.format(pvalue,'[*]' if pvalue < 0.05 else '   '),end=' ')\n",
      "    print()"
     ],
     "language": "python",
     "metadata": {},
     "outputs": [
      {
       "output_type": "stream",
       "stream": "stdout",
       "text": [
        "               O1       O2       Oz       Cz       C3       C4       Fz       F8       F7       Fpz\n",
        "Feature Y1   0.157   "
       ]
      },
      {
       "output_type": "stream",
       "stream": "stdout",
       "text": [
        " 0.714   "
       ]
      },
      {
       "output_type": "stream",
       "stream": "stdout",
       "text": [
        " 0.348   "
       ]
      },
      {
       "output_type": "stream",
       "stream": "stdout",
       "text": [
        " 0.738   "
       ]
      },
      {
       "output_type": "stream",
       "stream": "stdout",
       "text": [
        " 0.166   "
       ]
      },
      {
       "output_type": "stream",
       "stream": "stdout",
       "text": [
        " 0.363   "
       ]
      },
      {
       "output_type": "stream",
       "stream": "stdout",
       "text": [
        " 0.938   "
       ]
      },
      {
       "output_type": "stream",
       "stream": "stdout",
       "text": [
        " 0.545   "
       ]
      },
      {
       "output_type": "stream",
       "stream": "stdout",
       "text": [
        " 0.831   "
       ]
      },
      {
       "output_type": "stream",
       "stream": "stdout",
       "text": [
        " 0.974   "
       ]
      },
      {
       "output_type": "stream",
       "stream": "stdout",
       "text": [
        " \n",
        "Feature Y2   0.541   "
       ]
      },
      {
       "output_type": "stream",
       "stream": "stdout",
       "text": [
        " 0.604   "
       ]
      },
      {
       "output_type": "stream",
       "stream": "stdout",
       "text": [
        " 0.805   "
       ]
      },
      {
       "output_type": "stream",
       "stream": "stdout",
       "text": [
        " 0.003[*]"
       ]
      },
      {
       "output_type": "stream",
       "stream": "stdout",
       "text": [
        " 0.737   "
       ]
      },
      {
       "output_type": "stream",
       "stream": "stdout",
       "text": [
        " 0.191   "
       ]
      },
      {
       "output_type": "stream",
       "stream": "stdout",
       "text": [
        " 0.103   "
       ]
      },
      {
       "output_type": "stream",
       "stream": "stdout",
       "text": [
        " 0.402   "
       ]
      },
      {
       "output_type": "stream",
       "stream": "stdout",
       "text": [
        " 0.310   "
       ]
      },
      {
       "output_type": "stream",
       "stream": "stdout",
       "text": [
        " 0.191   "
       ]
      },
      {
       "output_type": "stream",
       "stream": "stdout",
       "text": [
        " \n",
        "Feature Y3   0.751   "
       ]
      },
      {
       "output_type": "stream",
       "stream": "stdout",
       "text": [
        " 0.072   "
       ]
      },
      {
       "output_type": "stream",
       "stream": "stdout",
       "text": [
        " 0.214   "
       ]
      },
      {
       "output_type": "stream",
       "stream": "stdout",
       "text": [
        " 0.463   "
       ]
      },
      {
       "output_type": "stream",
       "stream": "stdout",
       "text": [
        " 0.122   "
       ]
      },
      {
       "output_type": "stream",
       "stream": "stdout",
       "text": [
        " 0.096   "
       ]
      },
      {
       "output_type": "stream",
       "stream": "stdout",
       "text": [
        " 0.571   "
       ]
      },
      {
       "output_type": "stream",
       "stream": "stdout",
       "text": [
        " 0.301   "
       ]
      },
      {
       "output_type": "stream",
       "stream": "stdout",
       "text": [
        " 0.166   "
       ]
      },
      {
       "output_type": "stream",
       "stream": "stdout",
       "text": [
        " 0.374   "
       ]
      },
      {
       "output_type": "stream",
       "stream": "stdout",
       "text": [
        " \n",
        "Feature Y4   0.063   "
       ]
      },
      {
       "output_type": "stream",
       "stream": "stdout",
       "text": [
        " 0.681   "
       ]
      },
      {
       "output_type": "stream",
       "stream": "stdout",
       "text": [
        " 0.514   "
       ]
      },
      {
       "output_type": "stream",
       "stream": "stdout",
       "text": [
        " 0.515   "
       ]
      },
      {
       "output_type": "stream",
       "stream": "stdout",
       "text": [
        " 0.071   "
       ]
      },
      {
       "output_type": "stream",
       "stream": "stdout",
       "text": [
        " 0.312   "
       ]
      },
      {
       "output_type": "stream",
       "stream": "stdout",
       "text": [
        " 0.344   "
       ]
      },
      {
       "output_type": "stream",
       "stream": "stdout",
       "text": [
        " 0.024[*]"
       ]
      },
      {
       "output_type": "stream",
       "stream": "stdout",
       "text": [
        " 0.282   "
       ]
      },
      {
       "output_type": "stream",
       "stream": "stdout",
       "text": [
        " 0.342   "
       ]
      },
      {
       "output_type": "stream",
       "stream": "stdout",
       "text": [
        " \n",
        "Feature Y5   0.170   "
       ]
      },
      {
       "output_type": "stream",
       "stream": "stdout",
       "text": [
        " 0.649   "
       ]
      },
      {
       "output_type": "stream",
       "stream": "stdout",
       "text": [
        " 0.373   "
       ]
      },
      {
       "output_type": "stream",
       "stream": "stdout",
       "text": [
        " 0.751   "
       ]
      },
      {
       "output_type": "stream",
       "stream": "stdout",
       "text": [
        " 0.151   "
       ]
      },
      {
       "output_type": "stream",
       "stream": "stdout",
       "text": [
        " 0.216   "
       ]
      },
      {
       "output_type": "stream",
       "stream": "stdout",
       "text": [
        " 0.234   "
       ]
      },
      {
       "output_type": "stream",
       "stream": "stdout",
       "text": [
        " 0.106   "
       ]
      },
      {
       "output_type": "stream",
       "stream": "stdout",
       "text": [
        " 0.711   "
       ]
      },
      {
       "output_type": "stream",
       "stream": "stdout",
       "text": [
        " 0.568   "
       ]
      },
      {
       "output_type": "stream",
       "stream": "stdout",
       "text": [
        " \n"
       ]
      }
     ],
     "prompt_number": 35
    },
    {
     "cell_type": "markdown",
     "metadata": {},
     "source": [
      "Is there an effect of time for group=group-2?"
     ]
    },
    {
     "cell_type": "code",
     "collapsed": false,
     "input": [
      "t1 = 'T1'\n",
      "t2 = 'T2'\n",
      "group_common = 'group-2'\n",
      "\n",
      "print('               {}'.format('       '.join(electrodes)))\n",
      "for feat_i in features:\n",
      "    print('Feature',feat_i,end='   ')\n",
      "    for elec_i in electrodes:\n",
      "        X1 = data.ix[np.all((data.group==group_common,data.time==t1,data.feature==feat_i),axis=0),\n",
      "                     elec_i]\n",
      "        X2 = data.ix[np.all((data.group==group_common,data.time==t2,data.feature==feat_i),axis=0),\n",
      "                     elec_i]\n",
      "        pvalue,original_diff,all_diffs = permutation_test(X1,X2,10000)\n",
      "        print('{:1.3f}{}'.format(pvalue,'[*]' if pvalue < 0.05 else '   '),end=' ')\n",
      "    print()"
     ],
     "language": "python",
     "metadata": {},
     "outputs": [
      {
       "output_type": "stream",
       "stream": "stdout",
       "text": [
        "               O1       O2       Oz       Cz       C3       C4       Fz       F8       F7       Fpz\n",
        "Feature Y1   0.887   "
       ]
      },
      {
       "output_type": "stream",
       "stream": "stdout",
       "text": [
        " 0.353   "
       ]
      },
      {
       "output_type": "stream",
       "stream": "stdout",
       "text": [
        " 0.489   "
       ]
      },
      {
       "output_type": "stream",
       "stream": "stdout",
       "text": [
        " 0.722   "
       ]
      },
      {
       "output_type": "stream",
       "stream": "stdout",
       "text": [
        " 0.321   "
       ]
      },
      {
       "output_type": "stream",
       "stream": "stdout",
       "text": [
        " 0.734   "
       ]
      },
      {
       "output_type": "stream",
       "stream": "stdout",
       "text": [
        " 0.658   "
       ]
      },
      {
       "output_type": "stream",
       "stream": "stdout",
       "text": [
        " 0.718   "
       ]
      },
      {
       "output_type": "stream",
       "stream": "stdout",
       "text": [
        " 0.583   "
       ]
      },
      {
       "output_type": "stream",
       "stream": "stdout",
       "text": [
        " 0.016[*]"
       ]
      },
      {
       "output_type": "stream",
       "stream": "stdout",
       "text": [
        " \n",
        "Feature Y2   0.781   "
       ]
      },
      {
       "output_type": "stream",
       "stream": "stdout",
       "text": [
        " 0.253   "
       ]
      },
      {
       "output_type": "stream",
       "stream": "stdout",
       "text": [
        " 0.951   "
       ]
      },
      {
       "output_type": "stream",
       "stream": "stdout",
       "text": [
        " 0.648   "
       ]
      },
      {
       "output_type": "stream",
       "stream": "stdout",
       "text": [
        " 0.194   "
       ]
      },
      {
       "output_type": "stream",
       "stream": "stdout",
       "text": [
        " 0.011[*]"
       ]
      },
      {
       "output_type": "stream",
       "stream": "stdout",
       "text": [
        " 0.658   "
       ]
      },
      {
       "output_type": "stream",
       "stream": "stdout",
       "text": [
        " 0.270   "
       ]
      },
      {
       "output_type": "stream",
       "stream": "stdout",
       "text": [
        " 0.153   "
       ]
      },
      {
       "output_type": "stream",
       "stream": "stdout",
       "text": [
        " 0.306   "
       ]
      },
      {
       "output_type": "stream",
       "stream": "stdout",
       "text": [
        " \n",
        "Feature Y3   0.574   "
       ]
      },
      {
       "output_type": "stream",
       "stream": "stdout",
       "text": [
        " 0.194   "
       ]
      },
      {
       "output_type": "stream",
       "stream": "stdout",
       "text": [
        " 0.333   "
       ]
      },
      {
       "output_type": "stream",
       "stream": "stdout",
       "text": [
        " 0.168   "
       ]
      },
      {
       "output_type": "stream",
       "stream": "stdout",
       "text": [
        " 0.106   "
       ]
      },
      {
       "output_type": "stream",
       "stream": "stdout",
       "text": [
        " 0.538   "
       ]
      },
      {
       "output_type": "stream",
       "stream": "stdout",
       "text": [
        " 0.652   "
       ]
      },
      {
       "output_type": "stream",
       "stream": "stdout",
       "text": [
        " 0.037[*]"
       ]
      },
      {
       "output_type": "stream",
       "stream": "stdout",
       "text": [
        " 0.720   "
       ]
      },
      {
       "output_type": "stream",
       "stream": "stdout",
       "text": [
        " 0.784   "
       ]
      },
      {
       "output_type": "stream",
       "stream": "stdout",
       "text": [
        " \n",
        "Feature Y4   0.674   "
       ]
      },
      {
       "output_type": "stream",
       "stream": "stdout",
       "text": [
        " 0.508   "
       ]
      },
      {
       "output_type": "stream",
       "stream": "stdout",
       "text": [
        " 0.761   "
       ]
      },
      {
       "output_type": "stream",
       "stream": "stdout",
       "text": [
        " 0.946   "
       ]
      },
      {
       "output_type": "stream",
       "stream": "stdout",
       "text": [
        " 0.807   "
       ]
      },
      {
       "output_type": "stream",
       "stream": "stdout",
       "text": [
        " 0.423   "
       ]
      },
      {
       "output_type": "stream",
       "stream": "stdout",
       "text": [
        " 0.033[*]"
       ]
      },
      {
       "output_type": "stream",
       "stream": "stdout",
       "text": [
        " 0.640   "
       ]
      },
      {
       "output_type": "stream",
       "stream": "stdout",
       "text": [
        " 0.226   "
       ]
      },
      {
       "output_type": "stream",
       "stream": "stdout",
       "text": [
        " 0.924   "
       ]
      },
      {
       "output_type": "stream",
       "stream": "stdout",
       "text": [
        " \n",
        "Feature Y5   0.809   "
       ]
      },
      {
       "output_type": "stream",
       "stream": "stdout",
       "text": [
        " 0.820   "
       ]
      },
      {
       "output_type": "stream",
       "stream": "stdout",
       "text": [
        " 0.003[*]"
       ]
      },
      {
       "output_type": "stream",
       "stream": "stdout",
       "text": [
        " 0.714   "
       ]
      },
      {
       "output_type": "stream",
       "stream": "stdout",
       "text": [
        " 0.358   "
       ]
      },
      {
       "output_type": "stream",
       "stream": "stdout",
       "text": [
        " 0.221   "
       ]
      },
      {
       "output_type": "stream",
       "stream": "stdout",
       "text": [
        " 0.318   "
       ]
      },
      {
       "output_type": "stream",
       "stream": "stdout",
       "text": [
        " 0.414   "
       ]
      },
      {
       "output_type": "stream",
       "stream": "stdout",
       "text": [
        " 0.012[*]"
       ]
      },
      {
       "output_type": "stream",
       "stream": "stdout",
       "text": [
        " 0.458   "
       ]
      },
      {
       "output_type": "stream",
       "stream": "stdout",
       "text": [
        " \n"
       ]
      }
     ],
     "prompt_number": 36
    }
   ],
   "metadata": {}
  }
 ]
}